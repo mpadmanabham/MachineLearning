{
 "cells": [
  {
   "cell_type": "markdown",
   "metadata": {},
   "source": [
    "# This example is just to show the Multilabel claffication with neural networks in Tensoflow "
   ]
  },
  {
   "cell_type": "markdown",
   "metadata": {},
   "source": [
    "**Importing required libraries**"
   ]
  },
  {
   "cell_type": "code",
   "execution_count": 1,
   "metadata": {},
   "outputs": [
    {
     "name": "stderr",
     "output_type": "stream",
     "text": [
      "E:\\progammefiles\\python\\anaconda\\lib\\site-packages\\h5py\\__init__.py:36: FutureWarning: Conversion of the second argument of issubdtype from `float` to `np.floating` is deprecated. In future, it will be treated as `np.float64 == np.dtype(float).type`.\n",
      "  from ._conv import register_converters as _register_converters\n"
     ]
    }
   ],
   "source": [
    "import tensorflow as tf\n",
    "import numpy as np\n",
    "import pandas as pd\n",
    "import matplotlib.pyplot as plt\n",
    "import seaborn as sns\n",
    "import seaborn as sns\n",
    "from sklearn.model_selection import train_test_split\n",
    "from sklearn.metrics import classification_report,classification,accuracy_score\n",
    "from sklearn.preprocessing import MinMaxScaler\n",
    "import os,glob\n",
    "import math\n",
    "%matplotlib inline"
   ]
  },
  {
   "cell_type": "markdown",
   "metadata": {},
   "source": [
    "**Data Preprocessing**"
   ]
  },
  {
   "cell_type": "code",
   "execution_count": 2,
   "metadata": {},
   "outputs": [],
   "source": [
    "ex_df=pd.read_csv('E:/Machine_learning/DataSets/emg-4/0.csv',header=None)"
   ]
  },
  {
   "cell_type": "code",
   "execution_count": 3,
   "metadata": {},
   "outputs": [
    {
     "data": {
      "text/html": [
       "<div>\n",
       "<style scoped>\n",
       "    .dataframe tbody tr th:only-of-type {\n",
       "        vertical-align: middle;\n",
       "    }\n",
       "\n",
       "    .dataframe tbody tr th {\n",
       "        vertical-align: top;\n",
       "    }\n",
       "\n",
       "    .dataframe thead th {\n",
       "        text-align: right;\n",
       "    }\n",
       "</style>\n",
       "<table border=\"1\" class=\"dataframe\">\n",
       "  <thead>\n",
       "    <tr style=\"text-align: right;\">\n",
       "      <th></th>\n",
       "      <th>0</th>\n",
       "      <th>1</th>\n",
       "      <th>2</th>\n",
       "      <th>3</th>\n",
       "      <th>4</th>\n",
       "      <th>5</th>\n",
       "      <th>6</th>\n",
       "      <th>7</th>\n",
       "      <th>8</th>\n",
       "      <th>9</th>\n",
       "      <th>...</th>\n",
       "      <th>55</th>\n",
       "      <th>56</th>\n",
       "      <th>57</th>\n",
       "      <th>58</th>\n",
       "      <th>59</th>\n",
       "      <th>60</th>\n",
       "      <th>61</th>\n",
       "      <th>62</th>\n",
       "      <th>63</th>\n",
       "      <th>64</th>\n",
       "    </tr>\n",
       "  </thead>\n",
       "  <tbody>\n",
       "    <tr>\n",
       "      <th>0</th>\n",
       "      <td>26.0</td>\n",
       "      <td>4.0</td>\n",
       "      <td>5.0</td>\n",
       "      <td>8.0</td>\n",
       "      <td>-1.0</td>\n",
       "      <td>-13.0</td>\n",
       "      <td>-109.0</td>\n",
       "      <td>-66.0</td>\n",
       "      <td>-9.0</td>\n",
       "      <td>2.0</td>\n",
       "      <td>...</td>\n",
       "      <td>-28.0</td>\n",
       "      <td>61.0</td>\n",
       "      <td>4.0</td>\n",
       "      <td>8.0</td>\n",
       "      <td>5.0</td>\n",
       "      <td>4.0</td>\n",
       "      <td>-7.0</td>\n",
       "      <td>-59.0</td>\n",
       "      <td>16.0</td>\n",
       "      <td>0</td>\n",
       "    </tr>\n",
       "    <tr>\n",
       "      <th>1</th>\n",
       "      <td>-47.0</td>\n",
       "      <td>-6.0</td>\n",
       "      <td>-5.0</td>\n",
       "      <td>-7.0</td>\n",
       "      <td>13.0</td>\n",
       "      <td>-1.0</td>\n",
       "      <td>35.0</td>\n",
       "      <td>-10.0</td>\n",
       "      <td>10.0</td>\n",
       "      <td>-4.0</td>\n",
       "      <td>...</td>\n",
       "      <td>-25.0</td>\n",
       "      <td>47.0</td>\n",
       "      <td>6.0</td>\n",
       "      <td>6.0</td>\n",
       "      <td>5.0</td>\n",
       "      <td>13.0</td>\n",
       "      <td>21.0</td>\n",
       "      <td>111.0</td>\n",
       "      <td>15.0</td>\n",
       "      <td>0</td>\n",
       "    </tr>\n",
       "    <tr>\n",
       "      <th>2</th>\n",
       "      <td>-19.0</td>\n",
       "      <td>-8.0</td>\n",
       "      <td>-8.0</td>\n",
       "      <td>-8.0</td>\n",
       "      <td>-21.0</td>\n",
       "      <td>-6.0</td>\n",
       "      <td>-79.0</td>\n",
       "      <td>12.0</td>\n",
       "      <td>0.0</td>\n",
       "      <td>5.0</td>\n",
       "      <td>...</td>\n",
       "      <td>-83.0</td>\n",
       "      <td>7.0</td>\n",
       "      <td>7.0</td>\n",
       "      <td>1.0</td>\n",
       "      <td>-8.0</td>\n",
       "      <td>7.0</td>\n",
       "      <td>21.0</td>\n",
       "      <td>114.0</td>\n",
       "      <td>48.0</td>\n",
       "      <td>0</td>\n",
       "    </tr>\n",
       "    <tr>\n",
       "      <th>3</th>\n",
       "      <td>2.0</td>\n",
       "      <td>3.0</td>\n",
       "      <td>0.0</td>\n",
       "      <td>2.0</td>\n",
       "      <td>0.0</td>\n",
       "      <td>22.0</td>\n",
       "      <td>106.0</td>\n",
       "      <td>-14.0</td>\n",
       "      <td>-16.0</td>\n",
       "      <td>-2.0</td>\n",
       "      <td>...</td>\n",
       "      <td>-38.0</td>\n",
       "      <td>-11.0</td>\n",
       "      <td>4.0</td>\n",
       "      <td>7.0</td>\n",
       "      <td>11.0</td>\n",
       "      <td>33.0</td>\n",
       "      <td>39.0</td>\n",
       "      <td>119.0</td>\n",
       "      <td>43.0</td>\n",
       "      <td>0</td>\n",
       "    </tr>\n",
       "    <tr>\n",
       "      <th>4</th>\n",
       "      <td>6.0</td>\n",
       "      <td>0.0</td>\n",
       "      <td>0.0</td>\n",
       "      <td>-2.0</td>\n",
       "      <td>-14.0</td>\n",
       "      <td>10.0</td>\n",
       "      <td>-51.0</td>\n",
       "      <td>5.0</td>\n",
       "      <td>7.0</td>\n",
       "      <td>0.0</td>\n",
       "      <td>...</td>\n",
       "      <td>38.0</td>\n",
       "      <td>-35.0</td>\n",
       "      <td>-8.0</td>\n",
       "      <td>2.0</td>\n",
       "      <td>6.0</td>\n",
       "      <td>-13.0</td>\n",
       "      <td>-24.0</td>\n",
       "      <td>-112.0</td>\n",
       "      <td>-69.0</td>\n",
       "      <td>0</td>\n",
       "    </tr>\n",
       "  </tbody>\n",
       "</table>\n",
       "<p>5 rows × 65 columns</p>\n",
       "</div>"
      ],
      "text/plain": [
       "     0    1    2    3     4     5      6     7     8    9  ...    55    56  \\\n",
       "0  26.0  4.0  5.0  8.0  -1.0 -13.0 -109.0 -66.0  -9.0  2.0 ... -28.0  61.0   \n",
       "1 -47.0 -6.0 -5.0 -7.0  13.0  -1.0   35.0 -10.0  10.0 -4.0 ... -25.0  47.0   \n",
       "2 -19.0 -8.0 -8.0 -8.0 -21.0  -6.0  -79.0  12.0   0.0  5.0 ... -83.0   7.0   \n",
       "3   2.0  3.0  0.0  2.0   0.0  22.0  106.0 -14.0 -16.0 -2.0 ... -38.0 -11.0   \n",
       "4   6.0  0.0  0.0 -2.0 -14.0  10.0  -51.0   5.0   7.0  0.0 ...  38.0 -35.0   \n",
       "\n",
       "    57   58    59    60    61     62    63  64  \n",
       "0  4.0  8.0   5.0   4.0  -7.0  -59.0  16.0   0  \n",
       "1  6.0  6.0   5.0  13.0  21.0  111.0  15.0   0  \n",
       "2  7.0  1.0  -8.0   7.0  21.0  114.0  48.0   0  \n",
       "3  4.0  7.0  11.0  33.0  39.0  119.0  43.0   0  \n",
       "4 -8.0  2.0   6.0 -13.0 -24.0 -112.0 -69.0   0  \n",
       "\n",
       "[5 rows x 65 columns]"
      ]
     },
     "execution_count": 3,
     "metadata": {},
     "output_type": "execute_result"
    }
   ],
   "source": [
    "ex_df.head()"
   ]
  },
  {
   "cell_type": "markdown",
   "metadata": {},
   "source": [
    "**The sources files contains into fours files like *.CSV, and in the file doesn't contain any columns names and class, so we taken column names like below**"
   ]
  },
  {
   "cell_type": "code",
   "execution_count": 4,
   "metadata": {},
   "outputs": [],
   "source": [
    "cols=['col'+str(i+1) for i in range(64)]\n",
    "cols.append('class')"
   ]
  },
  {
   "cell_type": "code",
   "execution_count": 5,
   "metadata": {},
   "outputs": [],
   "source": [
    "all_files=glob.glob(os.path.join('E:/Machine_learning/DataSets/emg-4/*.csv'))"
   ]
  },
  {
   "cell_type": "code",
   "execution_count": 6,
   "metadata": {},
   "outputs": [],
   "source": [
    "j=0\n",
    "np_array=[]\n",
    "for i in all_files:\n",
    "    df=pd.read_csv(i,header=None,index_col=None)\n",
    "    np_array.append(df.as_matrix())\n",
    "\n",
    "df=pd.DataFrame(np.vstack(np_array),columns=cols)"
   ]
  },
  {
   "cell_type": "code",
   "execution_count": 7,
   "metadata": {},
   "outputs": [
    {
     "data": {
      "text/plain": [
       "(11678, 65)"
      ]
     },
     "execution_count": 7,
     "metadata": {},
     "output_type": "execute_result"
    }
   ],
   "source": [
    "df.shape"
   ]
  },
  {
   "cell_type": "code",
   "execution_count": 8,
   "metadata": {},
   "outputs": [
    {
     "data": {
      "text/html": [
       "<div>\n",
       "<style scoped>\n",
       "    .dataframe tbody tr th:only-of-type {\n",
       "        vertical-align: middle;\n",
       "    }\n",
       "\n",
       "    .dataframe tbody tr th {\n",
       "        vertical-align: top;\n",
       "    }\n",
       "\n",
       "    .dataframe thead th {\n",
       "        text-align: right;\n",
       "    }\n",
       "</style>\n",
       "<table border=\"1\" class=\"dataframe\">\n",
       "  <thead>\n",
       "    <tr style=\"text-align: right;\">\n",
       "      <th></th>\n",
       "      <th>col1</th>\n",
       "      <th>col2</th>\n",
       "      <th>col3</th>\n",
       "      <th>col4</th>\n",
       "      <th>col5</th>\n",
       "      <th>col6</th>\n",
       "      <th>col7</th>\n",
       "      <th>col8</th>\n",
       "      <th>col9</th>\n",
       "      <th>col10</th>\n",
       "      <th>...</th>\n",
       "      <th>col56</th>\n",
       "      <th>col57</th>\n",
       "      <th>col58</th>\n",
       "      <th>col59</th>\n",
       "      <th>col60</th>\n",
       "      <th>col61</th>\n",
       "      <th>col62</th>\n",
       "      <th>col63</th>\n",
       "      <th>col64</th>\n",
       "      <th>class</th>\n",
       "    </tr>\n",
       "  </thead>\n",
       "  <tbody>\n",
       "    <tr>\n",
       "      <th>0</th>\n",
       "      <td>26.0</td>\n",
       "      <td>4.0</td>\n",
       "      <td>5.0</td>\n",
       "      <td>8.0</td>\n",
       "      <td>-1.0</td>\n",
       "      <td>-13.0</td>\n",
       "      <td>-109.0</td>\n",
       "      <td>-66.0</td>\n",
       "      <td>-9.0</td>\n",
       "      <td>2.0</td>\n",
       "      <td>...</td>\n",
       "      <td>-28.0</td>\n",
       "      <td>61.0</td>\n",
       "      <td>4.0</td>\n",
       "      <td>8.0</td>\n",
       "      <td>5.0</td>\n",
       "      <td>4.0</td>\n",
       "      <td>-7.0</td>\n",
       "      <td>-59.0</td>\n",
       "      <td>16.0</td>\n",
       "      <td>0.0</td>\n",
       "    </tr>\n",
       "    <tr>\n",
       "      <th>1</th>\n",
       "      <td>-47.0</td>\n",
       "      <td>-6.0</td>\n",
       "      <td>-5.0</td>\n",
       "      <td>-7.0</td>\n",
       "      <td>13.0</td>\n",
       "      <td>-1.0</td>\n",
       "      <td>35.0</td>\n",
       "      <td>-10.0</td>\n",
       "      <td>10.0</td>\n",
       "      <td>-4.0</td>\n",
       "      <td>...</td>\n",
       "      <td>-25.0</td>\n",
       "      <td>47.0</td>\n",
       "      <td>6.0</td>\n",
       "      <td>6.0</td>\n",
       "      <td>5.0</td>\n",
       "      <td>13.0</td>\n",
       "      <td>21.0</td>\n",
       "      <td>111.0</td>\n",
       "      <td>15.0</td>\n",
       "      <td>0.0</td>\n",
       "    </tr>\n",
       "    <tr>\n",
       "      <th>2</th>\n",
       "      <td>-19.0</td>\n",
       "      <td>-8.0</td>\n",
       "      <td>-8.0</td>\n",
       "      <td>-8.0</td>\n",
       "      <td>-21.0</td>\n",
       "      <td>-6.0</td>\n",
       "      <td>-79.0</td>\n",
       "      <td>12.0</td>\n",
       "      <td>0.0</td>\n",
       "      <td>5.0</td>\n",
       "      <td>...</td>\n",
       "      <td>-83.0</td>\n",
       "      <td>7.0</td>\n",
       "      <td>7.0</td>\n",
       "      <td>1.0</td>\n",
       "      <td>-8.0</td>\n",
       "      <td>7.0</td>\n",
       "      <td>21.0</td>\n",
       "      <td>114.0</td>\n",
       "      <td>48.0</td>\n",
       "      <td>0.0</td>\n",
       "    </tr>\n",
       "    <tr>\n",
       "      <th>3</th>\n",
       "      <td>2.0</td>\n",
       "      <td>3.0</td>\n",
       "      <td>0.0</td>\n",
       "      <td>2.0</td>\n",
       "      <td>0.0</td>\n",
       "      <td>22.0</td>\n",
       "      <td>106.0</td>\n",
       "      <td>-14.0</td>\n",
       "      <td>-16.0</td>\n",
       "      <td>-2.0</td>\n",
       "      <td>...</td>\n",
       "      <td>-38.0</td>\n",
       "      <td>-11.0</td>\n",
       "      <td>4.0</td>\n",
       "      <td>7.0</td>\n",
       "      <td>11.0</td>\n",
       "      <td>33.0</td>\n",
       "      <td>39.0</td>\n",
       "      <td>119.0</td>\n",
       "      <td>43.0</td>\n",
       "      <td>0.0</td>\n",
       "    </tr>\n",
       "    <tr>\n",
       "      <th>4</th>\n",
       "      <td>6.0</td>\n",
       "      <td>0.0</td>\n",
       "      <td>0.0</td>\n",
       "      <td>-2.0</td>\n",
       "      <td>-14.0</td>\n",
       "      <td>10.0</td>\n",
       "      <td>-51.0</td>\n",
       "      <td>5.0</td>\n",
       "      <td>7.0</td>\n",
       "      <td>0.0</td>\n",
       "      <td>...</td>\n",
       "      <td>38.0</td>\n",
       "      <td>-35.0</td>\n",
       "      <td>-8.0</td>\n",
       "      <td>2.0</td>\n",
       "      <td>6.0</td>\n",
       "      <td>-13.0</td>\n",
       "      <td>-24.0</td>\n",
       "      <td>-112.0</td>\n",
       "      <td>-69.0</td>\n",
       "      <td>0.0</td>\n",
       "    </tr>\n",
       "  </tbody>\n",
       "</table>\n",
       "<p>5 rows × 65 columns</p>\n",
       "</div>"
      ],
      "text/plain": [
       "   col1  col2  col3  col4  col5  col6   col7  col8  col9  col10  ...    col56  \\\n",
       "0  26.0   4.0   5.0   8.0  -1.0 -13.0 -109.0 -66.0  -9.0    2.0  ...    -28.0   \n",
       "1 -47.0  -6.0  -5.0  -7.0  13.0  -1.0   35.0 -10.0  10.0   -4.0  ...    -25.0   \n",
       "2 -19.0  -8.0  -8.0  -8.0 -21.0  -6.0  -79.0  12.0   0.0    5.0  ...    -83.0   \n",
       "3   2.0   3.0   0.0   2.0   0.0  22.0  106.0 -14.0 -16.0   -2.0  ...    -38.0   \n",
       "4   6.0   0.0   0.0  -2.0 -14.0  10.0  -51.0   5.0   7.0    0.0  ...     38.0   \n",
       "\n",
       "   col57  col58  col59  col60  col61  col62  col63  col64  class  \n",
       "0   61.0    4.0    8.0    5.0    4.0   -7.0  -59.0   16.0    0.0  \n",
       "1   47.0    6.0    6.0    5.0   13.0   21.0  111.0   15.0    0.0  \n",
       "2    7.0    7.0    1.0   -8.0    7.0   21.0  114.0   48.0    0.0  \n",
       "3  -11.0    4.0    7.0   11.0   33.0   39.0  119.0   43.0    0.0  \n",
       "4  -35.0   -8.0    2.0    6.0  -13.0  -24.0 -112.0  -69.0    0.0  \n",
       "\n",
       "[5 rows x 65 columns]"
      ]
     },
     "execution_count": 8,
     "metadata": {},
     "output_type": "execute_result"
    }
   ],
   "source": [
    "df.head()"
   ]
  },
  {
   "cell_type": "code",
   "execution_count": 9,
   "metadata": {},
   "outputs": [
    {
     "data": {
      "text/plain": [
       "array([0., 1., 2., 3.])"
      ]
     },
     "execution_count": 9,
     "metadata": {},
     "output_type": "execute_result"
    }
   ],
   "source": [
    "df['class'].unique()"
   ]
  },
  {
   "cell_type": "markdown",
   "metadata": {},
   "source": [
    "**being classfication problem, So class column divided into four columns**"
   ]
  },
  {
   "cell_type": "code",
   "execution_count": 10,
   "metadata": {},
   "outputs": [],
   "source": [
    "df=pd.concat([df.drop(['class'],axis=1),\n",
    "              pd.DataFrame(np.array(pd.get_dummies(df['class'])),columns=['class1','class2','class3','class4'])],axis=1)"
   ]
  },
  {
   "cell_type": "code",
   "execution_count": 11,
   "metadata": {},
   "outputs": [
    {
     "data": {
      "text/html": [
       "<div>\n",
       "<style scoped>\n",
       "    .dataframe tbody tr th:only-of-type {\n",
       "        vertical-align: middle;\n",
       "    }\n",
       "\n",
       "    .dataframe tbody tr th {\n",
       "        vertical-align: top;\n",
       "    }\n",
       "\n",
       "    .dataframe thead th {\n",
       "        text-align: right;\n",
       "    }\n",
       "</style>\n",
       "<table border=\"1\" class=\"dataframe\">\n",
       "  <thead>\n",
       "    <tr style=\"text-align: right;\">\n",
       "      <th></th>\n",
       "      <th>col1</th>\n",
       "      <th>col2</th>\n",
       "      <th>col3</th>\n",
       "      <th>col4</th>\n",
       "      <th>col5</th>\n",
       "      <th>col6</th>\n",
       "      <th>col7</th>\n",
       "      <th>col8</th>\n",
       "      <th>col9</th>\n",
       "      <th>col10</th>\n",
       "      <th>...</th>\n",
       "      <th>col59</th>\n",
       "      <th>col60</th>\n",
       "      <th>col61</th>\n",
       "      <th>col62</th>\n",
       "      <th>col63</th>\n",
       "      <th>col64</th>\n",
       "      <th>class1</th>\n",
       "      <th>class2</th>\n",
       "      <th>class3</th>\n",
       "      <th>class4</th>\n",
       "    </tr>\n",
       "  </thead>\n",
       "  <tbody>\n",
       "    <tr>\n",
       "      <th>0</th>\n",
       "      <td>26.0</td>\n",
       "      <td>4.0</td>\n",
       "      <td>5.0</td>\n",
       "      <td>8.0</td>\n",
       "      <td>-1.0</td>\n",
       "      <td>-13.0</td>\n",
       "      <td>-109.0</td>\n",
       "      <td>-66.0</td>\n",
       "      <td>-9.0</td>\n",
       "      <td>2.0</td>\n",
       "      <td>...</td>\n",
       "      <td>8.0</td>\n",
       "      <td>5.0</td>\n",
       "      <td>4.0</td>\n",
       "      <td>-7.0</td>\n",
       "      <td>-59.0</td>\n",
       "      <td>16.0</td>\n",
       "      <td>1</td>\n",
       "      <td>0</td>\n",
       "      <td>0</td>\n",
       "      <td>0</td>\n",
       "    </tr>\n",
       "    <tr>\n",
       "      <th>1</th>\n",
       "      <td>-47.0</td>\n",
       "      <td>-6.0</td>\n",
       "      <td>-5.0</td>\n",
       "      <td>-7.0</td>\n",
       "      <td>13.0</td>\n",
       "      <td>-1.0</td>\n",
       "      <td>35.0</td>\n",
       "      <td>-10.0</td>\n",
       "      <td>10.0</td>\n",
       "      <td>-4.0</td>\n",
       "      <td>...</td>\n",
       "      <td>6.0</td>\n",
       "      <td>5.0</td>\n",
       "      <td>13.0</td>\n",
       "      <td>21.0</td>\n",
       "      <td>111.0</td>\n",
       "      <td>15.0</td>\n",
       "      <td>1</td>\n",
       "      <td>0</td>\n",
       "      <td>0</td>\n",
       "      <td>0</td>\n",
       "    </tr>\n",
       "    <tr>\n",
       "      <th>2</th>\n",
       "      <td>-19.0</td>\n",
       "      <td>-8.0</td>\n",
       "      <td>-8.0</td>\n",
       "      <td>-8.0</td>\n",
       "      <td>-21.0</td>\n",
       "      <td>-6.0</td>\n",
       "      <td>-79.0</td>\n",
       "      <td>12.0</td>\n",
       "      <td>0.0</td>\n",
       "      <td>5.0</td>\n",
       "      <td>...</td>\n",
       "      <td>1.0</td>\n",
       "      <td>-8.0</td>\n",
       "      <td>7.0</td>\n",
       "      <td>21.0</td>\n",
       "      <td>114.0</td>\n",
       "      <td>48.0</td>\n",
       "      <td>1</td>\n",
       "      <td>0</td>\n",
       "      <td>0</td>\n",
       "      <td>0</td>\n",
       "    </tr>\n",
       "    <tr>\n",
       "      <th>3</th>\n",
       "      <td>2.0</td>\n",
       "      <td>3.0</td>\n",
       "      <td>0.0</td>\n",
       "      <td>2.0</td>\n",
       "      <td>0.0</td>\n",
       "      <td>22.0</td>\n",
       "      <td>106.0</td>\n",
       "      <td>-14.0</td>\n",
       "      <td>-16.0</td>\n",
       "      <td>-2.0</td>\n",
       "      <td>...</td>\n",
       "      <td>7.0</td>\n",
       "      <td>11.0</td>\n",
       "      <td>33.0</td>\n",
       "      <td>39.0</td>\n",
       "      <td>119.0</td>\n",
       "      <td>43.0</td>\n",
       "      <td>1</td>\n",
       "      <td>0</td>\n",
       "      <td>0</td>\n",
       "      <td>0</td>\n",
       "    </tr>\n",
       "    <tr>\n",
       "      <th>4</th>\n",
       "      <td>6.0</td>\n",
       "      <td>0.0</td>\n",
       "      <td>0.0</td>\n",
       "      <td>-2.0</td>\n",
       "      <td>-14.0</td>\n",
       "      <td>10.0</td>\n",
       "      <td>-51.0</td>\n",
       "      <td>5.0</td>\n",
       "      <td>7.0</td>\n",
       "      <td>0.0</td>\n",
       "      <td>...</td>\n",
       "      <td>2.0</td>\n",
       "      <td>6.0</td>\n",
       "      <td>-13.0</td>\n",
       "      <td>-24.0</td>\n",
       "      <td>-112.0</td>\n",
       "      <td>-69.0</td>\n",
       "      <td>1</td>\n",
       "      <td>0</td>\n",
       "      <td>0</td>\n",
       "      <td>0</td>\n",
       "    </tr>\n",
       "  </tbody>\n",
       "</table>\n",
       "<p>5 rows × 68 columns</p>\n",
       "</div>"
      ],
      "text/plain": [
       "   col1  col2  col3  col4  col5  col6   col7  col8  col9  col10   ...    \\\n",
       "0  26.0   4.0   5.0   8.0  -1.0 -13.0 -109.0 -66.0  -9.0    2.0   ...     \n",
       "1 -47.0  -6.0  -5.0  -7.0  13.0  -1.0   35.0 -10.0  10.0   -4.0   ...     \n",
       "2 -19.0  -8.0  -8.0  -8.0 -21.0  -6.0  -79.0  12.0   0.0    5.0   ...     \n",
       "3   2.0   3.0   0.0   2.0   0.0  22.0  106.0 -14.0 -16.0   -2.0   ...     \n",
       "4   6.0   0.0   0.0  -2.0 -14.0  10.0  -51.0   5.0   7.0    0.0   ...     \n",
       "\n",
       "   col59  col60  col61  col62  col63  col64  class1  class2  class3  class4  \n",
       "0    8.0    5.0    4.0   -7.0  -59.0   16.0       1       0       0       0  \n",
       "1    6.0    5.0   13.0   21.0  111.0   15.0       1       0       0       0  \n",
       "2    1.0   -8.0    7.0   21.0  114.0   48.0       1       0       0       0  \n",
       "3    7.0   11.0   33.0   39.0  119.0   43.0       1       0       0       0  \n",
       "4    2.0    6.0  -13.0  -24.0 -112.0  -69.0       1       0       0       0  \n",
       "\n",
       "[5 rows x 68 columns]"
      ]
     },
     "execution_count": 11,
     "metadata": {},
     "output_type": "execute_result"
    }
   ],
   "source": [
    "df.head()"
   ]
  },
  {
   "cell_type": "code",
   "execution_count": 12,
   "metadata": {},
   "outputs": [
    {
     "data": {
      "text/html": [
       "<div>\n",
       "<style scoped>\n",
       "    .dataframe tbody tr th:only-of-type {\n",
       "        vertical-align: middle;\n",
       "    }\n",
       "\n",
       "    .dataframe tbody tr th {\n",
       "        vertical-align: top;\n",
       "    }\n",
       "\n",
       "    .dataframe thead th {\n",
       "        text-align: right;\n",
       "    }\n",
       "</style>\n",
       "<table border=\"1\" class=\"dataframe\">\n",
       "  <thead>\n",
       "    <tr style=\"text-align: right;\">\n",
       "      <th></th>\n",
       "      <th>col1</th>\n",
       "      <th>col2</th>\n",
       "      <th>col3</th>\n",
       "      <th>col4</th>\n",
       "      <th>col5</th>\n",
       "      <th>col6</th>\n",
       "      <th>col7</th>\n",
       "      <th>col8</th>\n",
       "      <th>col9</th>\n",
       "      <th>col10</th>\n",
       "      <th>...</th>\n",
       "      <th>col55</th>\n",
       "      <th>col56</th>\n",
       "      <th>col57</th>\n",
       "      <th>col58</th>\n",
       "      <th>col59</th>\n",
       "      <th>col60</th>\n",
       "      <th>col61</th>\n",
       "      <th>col62</th>\n",
       "      <th>col63</th>\n",
       "      <th>col64</th>\n",
       "    </tr>\n",
       "  </thead>\n",
       "  <tbody>\n",
       "    <tr>\n",
       "      <th>0</th>\n",
       "      <td>26.0</td>\n",
       "      <td>4.0</td>\n",
       "      <td>5.0</td>\n",
       "      <td>8.0</td>\n",
       "      <td>-1.0</td>\n",
       "      <td>-13.0</td>\n",
       "      <td>-109.0</td>\n",
       "      <td>-66.0</td>\n",
       "      <td>-9.0</td>\n",
       "      <td>2.0</td>\n",
       "      <td>...</td>\n",
       "      <td>21.0</td>\n",
       "      <td>-28.0</td>\n",
       "      <td>61.0</td>\n",
       "      <td>4.0</td>\n",
       "      <td>8.0</td>\n",
       "      <td>5.0</td>\n",
       "      <td>4.0</td>\n",
       "      <td>-7.0</td>\n",
       "      <td>-59.0</td>\n",
       "      <td>16.0</td>\n",
       "    </tr>\n",
       "    <tr>\n",
       "      <th>1</th>\n",
       "      <td>-47.0</td>\n",
       "      <td>-6.0</td>\n",
       "      <td>-5.0</td>\n",
       "      <td>-7.0</td>\n",
       "      <td>13.0</td>\n",
       "      <td>-1.0</td>\n",
       "      <td>35.0</td>\n",
       "      <td>-10.0</td>\n",
       "      <td>10.0</td>\n",
       "      <td>-4.0</td>\n",
       "      <td>...</td>\n",
       "      <td>-105.0</td>\n",
       "      <td>-25.0</td>\n",
       "      <td>47.0</td>\n",
       "      <td>6.0</td>\n",
       "      <td>6.0</td>\n",
       "      <td>5.0</td>\n",
       "      <td>13.0</td>\n",
       "      <td>21.0</td>\n",
       "      <td>111.0</td>\n",
       "      <td>15.0</td>\n",
       "    </tr>\n",
       "    <tr>\n",
       "      <th>2</th>\n",
       "      <td>-19.0</td>\n",
       "      <td>-8.0</td>\n",
       "      <td>-8.0</td>\n",
       "      <td>-8.0</td>\n",
       "      <td>-21.0</td>\n",
       "      <td>-6.0</td>\n",
       "      <td>-79.0</td>\n",
       "      <td>12.0</td>\n",
       "      <td>0.0</td>\n",
       "      <td>5.0</td>\n",
       "      <td>...</td>\n",
       "      <td>-128.0</td>\n",
       "      <td>-83.0</td>\n",
       "      <td>7.0</td>\n",
       "      <td>7.0</td>\n",
       "      <td>1.0</td>\n",
       "      <td>-8.0</td>\n",
       "      <td>7.0</td>\n",
       "      <td>21.0</td>\n",
       "      <td>114.0</td>\n",
       "      <td>48.0</td>\n",
       "    </tr>\n",
       "    <tr>\n",
       "      <th>3</th>\n",
       "      <td>2.0</td>\n",
       "      <td>3.0</td>\n",
       "      <td>0.0</td>\n",
       "      <td>2.0</td>\n",
       "      <td>0.0</td>\n",
       "      <td>22.0</td>\n",
       "      <td>106.0</td>\n",
       "      <td>-14.0</td>\n",
       "      <td>-16.0</td>\n",
       "      <td>-2.0</td>\n",
       "      <td>...</td>\n",
       "      <td>-54.0</td>\n",
       "      <td>-38.0</td>\n",
       "      <td>-11.0</td>\n",
       "      <td>4.0</td>\n",
       "      <td>7.0</td>\n",
       "      <td>11.0</td>\n",
       "      <td>33.0</td>\n",
       "      <td>39.0</td>\n",
       "      <td>119.0</td>\n",
       "      <td>43.0</td>\n",
       "    </tr>\n",
       "    <tr>\n",
       "      <th>4</th>\n",
       "      <td>6.0</td>\n",
       "      <td>0.0</td>\n",
       "      <td>0.0</td>\n",
       "      <td>-2.0</td>\n",
       "      <td>-14.0</td>\n",
       "      <td>10.0</td>\n",
       "      <td>-51.0</td>\n",
       "      <td>5.0</td>\n",
       "      <td>7.0</td>\n",
       "      <td>0.0</td>\n",
       "      <td>...</td>\n",
       "      <td>60.0</td>\n",
       "      <td>38.0</td>\n",
       "      <td>-35.0</td>\n",
       "      <td>-8.0</td>\n",
       "      <td>2.0</td>\n",
       "      <td>6.0</td>\n",
       "      <td>-13.0</td>\n",
       "      <td>-24.0</td>\n",
       "      <td>-112.0</td>\n",
       "      <td>-69.0</td>\n",
       "    </tr>\n",
       "  </tbody>\n",
       "</table>\n",
       "<p>5 rows × 64 columns</p>\n",
       "</div>"
      ],
      "text/plain": [
       "   col1  col2  col3  col4  col5  col6   col7  col8  col9  col10  ...    col55  \\\n",
       "0  26.0   4.0   5.0   8.0  -1.0 -13.0 -109.0 -66.0  -9.0    2.0  ...     21.0   \n",
       "1 -47.0  -6.0  -5.0  -7.0  13.0  -1.0   35.0 -10.0  10.0   -4.0  ...   -105.0   \n",
       "2 -19.0  -8.0  -8.0  -8.0 -21.0  -6.0  -79.0  12.0   0.0    5.0  ...   -128.0   \n",
       "3   2.0   3.0   0.0   2.0   0.0  22.0  106.0 -14.0 -16.0   -2.0  ...    -54.0   \n",
       "4   6.0   0.0   0.0  -2.0 -14.0  10.0  -51.0   5.0   7.0    0.0  ...     60.0   \n",
       "\n",
       "   col56  col57  col58  col59  col60  col61  col62  col63  col64  \n",
       "0  -28.0   61.0    4.0    8.0    5.0    4.0   -7.0  -59.0   16.0  \n",
       "1  -25.0   47.0    6.0    6.0    5.0   13.0   21.0  111.0   15.0  \n",
       "2  -83.0    7.0    7.0    1.0   -8.0    7.0   21.0  114.0   48.0  \n",
       "3  -38.0  -11.0    4.0    7.0   11.0   33.0   39.0  119.0   43.0  \n",
       "4   38.0  -35.0   -8.0    2.0    6.0  -13.0  -24.0 -112.0  -69.0  \n",
       "\n",
       "[5 rows x 64 columns]"
      ]
     },
     "execution_count": 12,
     "metadata": {},
     "output_type": "execute_result"
    }
   ],
   "source": [
    "X=df.drop(['class1','class2','class3','class4'],axis=1)\n",
    "X.head()"
   ]
  },
  {
   "cell_type": "code",
   "execution_count": 13,
   "metadata": {},
   "outputs": [
    {
     "data": {
      "text/html": [
       "<div>\n",
       "<style scoped>\n",
       "    .dataframe tbody tr th:only-of-type {\n",
       "        vertical-align: middle;\n",
       "    }\n",
       "\n",
       "    .dataframe tbody tr th {\n",
       "        vertical-align: top;\n",
       "    }\n",
       "\n",
       "    .dataframe thead th {\n",
       "        text-align: right;\n",
       "    }\n",
       "</style>\n",
       "<table border=\"1\" class=\"dataframe\">\n",
       "  <thead>\n",
       "    <tr style=\"text-align: right;\">\n",
       "      <th></th>\n",
       "      <th>class1</th>\n",
       "      <th>class2</th>\n",
       "      <th>class3</th>\n",
       "      <th>class4</th>\n",
       "    </tr>\n",
       "  </thead>\n",
       "  <tbody>\n",
       "    <tr>\n",
       "      <th>0</th>\n",
       "      <td>1</td>\n",
       "      <td>0</td>\n",
       "      <td>0</td>\n",
       "      <td>0</td>\n",
       "    </tr>\n",
       "    <tr>\n",
       "      <th>1</th>\n",
       "      <td>1</td>\n",
       "      <td>0</td>\n",
       "      <td>0</td>\n",
       "      <td>0</td>\n",
       "    </tr>\n",
       "    <tr>\n",
       "      <th>2</th>\n",
       "      <td>1</td>\n",
       "      <td>0</td>\n",
       "      <td>0</td>\n",
       "      <td>0</td>\n",
       "    </tr>\n",
       "    <tr>\n",
       "      <th>3</th>\n",
       "      <td>1</td>\n",
       "      <td>0</td>\n",
       "      <td>0</td>\n",
       "      <td>0</td>\n",
       "    </tr>\n",
       "    <tr>\n",
       "      <th>4</th>\n",
       "      <td>1</td>\n",
       "      <td>0</td>\n",
       "      <td>0</td>\n",
       "      <td>0</td>\n",
       "    </tr>\n",
       "  </tbody>\n",
       "</table>\n",
       "</div>"
      ],
      "text/plain": [
       "   class1  class2  class3  class4\n",
       "0       1       0       0       0\n",
       "1       1       0       0       0\n",
       "2       1       0       0       0\n",
       "3       1       0       0       0\n",
       "4       1       0       0       0"
      ]
     },
     "execution_count": 13,
     "metadata": {},
     "output_type": "execute_result"
    }
   ],
   "source": [
    "y=df[['class1','class2','class3','class4']]\n",
    "y.head()"
   ]
  },
  {
   "cell_type": "code",
   "execution_count": 14,
   "metadata": {},
   "outputs": [
    {
     "data": {
      "text/plain": [
       "(11678, 64)"
      ]
     },
     "execution_count": 14,
     "metadata": {},
     "output_type": "execute_result"
    }
   ],
   "source": [
    "X.shape"
   ]
  },
  {
   "cell_type": "code",
   "execution_count": 15,
   "metadata": {},
   "outputs": [
    {
     "data": {
      "text/plain": [
       "(11678, 4)"
      ]
     },
     "execution_count": 15,
     "metadata": {},
     "output_type": "execute_result"
    }
   ],
   "source": [
    "y=y.astype(float)\n",
    "y.shape"
   ]
  },
  {
   "cell_type": "code",
   "execution_count": 16,
   "metadata": {},
   "outputs": [],
   "source": [
    "X_train, X_test, y_train, y_test = train_test_split(X , y, test_size=0.1, random_state=42)\n",
    "#X_train, X_test, y_train, y_test = train_test_split(np.array(X), np.array(y), test_size=0.2, random_state=42)\n",
    "#X_train=pd.DataFrame(X_train,columns=X.columns)\n",
    "#X_test=pd.DataFrame(X_test,columns=X.columns)\n",
    "#y_train=pd.DataFrame(y_train,columns=y.columns)\n",
    "#y_test=pd.DataFrame(y_test,columns=y.columns)"
   ]
  },
  {
   "cell_type": "code",
   "execution_count": 17,
   "metadata": {},
   "outputs": [
    {
     "data": {
      "text/html": [
       "<div>\n",
       "<style scoped>\n",
       "    .dataframe tbody tr th:only-of-type {\n",
       "        vertical-align: middle;\n",
       "    }\n",
       "\n",
       "    .dataframe tbody tr th {\n",
       "        vertical-align: top;\n",
       "    }\n",
       "\n",
       "    .dataframe thead th {\n",
       "        text-align: right;\n",
       "    }\n",
       "</style>\n",
       "<table border=\"1\" class=\"dataframe\">\n",
       "  <thead>\n",
       "    <tr style=\"text-align: right;\">\n",
       "      <th></th>\n",
       "      <th>col1</th>\n",
       "      <th>col2</th>\n",
       "      <th>col3</th>\n",
       "      <th>col4</th>\n",
       "      <th>col5</th>\n",
       "      <th>col6</th>\n",
       "      <th>col7</th>\n",
       "      <th>col8</th>\n",
       "      <th>col9</th>\n",
       "      <th>col10</th>\n",
       "      <th>...</th>\n",
       "      <th>col55</th>\n",
       "      <th>col56</th>\n",
       "      <th>col57</th>\n",
       "      <th>col58</th>\n",
       "      <th>col59</th>\n",
       "      <th>col60</th>\n",
       "      <th>col61</th>\n",
       "      <th>col62</th>\n",
       "      <th>col63</th>\n",
       "      <th>col64</th>\n",
       "    </tr>\n",
       "  </thead>\n",
       "  <tbody>\n",
       "    <tr>\n",
       "      <th>4684</th>\n",
       "      <td>-17.0</td>\n",
       "      <td>-4.0</td>\n",
       "      <td>1.0</td>\n",
       "      <td>1.0</td>\n",
       "      <td>-8.0</td>\n",
       "      <td>-35.0</td>\n",
       "      <td>-1.0</td>\n",
       "      <td>1.0</td>\n",
       "      <td>-1.0</td>\n",
       "      <td>0.0</td>\n",
       "      <td>...</td>\n",
       "      <td>2.0</td>\n",
       "      <td>1.0</td>\n",
       "      <td>3.0</td>\n",
       "      <td>1.0</td>\n",
       "      <td>2.0</td>\n",
       "      <td>2.0</td>\n",
       "      <td>-11.0</td>\n",
       "      <td>-28.0</td>\n",
       "      <td>-1.0</td>\n",
       "      <td>-1.0</td>\n",
       "    </tr>\n",
       "    <tr>\n",
       "      <th>960</th>\n",
       "      <td>5.0</td>\n",
       "      <td>-4.0</td>\n",
       "      <td>6.0</td>\n",
       "      <td>12.0</td>\n",
       "      <td>4.0</td>\n",
       "      <td>0.0</td>\n",
       "      <td>-57.0</td>\n",
       "      <td>-11.0</td>\n",
       "      <td>-7.0</td>\n",
       "      <td>9.0</td>\n",
       "      <td>...</td>\n",
       "      <td>99.0</td>\n",
       "      <td>60.0</td>\n",
       "      <td>1.0</td>\n",
       "      <td>5.0</td>\n",
       "      <td>14.0</td>\n",
       "      <td>7.0</td>\n",
       "      <td>14.0</td>\n",
       "      <td>15.0</td>\n",
       "      <td>-53.0</td>\n",
       "      <td>41.0</td>\n",
       "    </tr>\n",
       "    <tr>\n",
       "      <th>2009</th>\n",
       "      <td>14.0</td>\n",
       "      <td>0.0</td>\n",
       "      <td>-5.0</td>\n",
       "      <td>-8.0</td>\n",
       "      <td>-12.0</td>\n",
       "      <td>-27.0</td>\n",
       "      <td>-65.0</td>\n",
       "      <td>-18.0</td>\n",
       "      <td>11.0</td>\n",
       "      <td>-12.0</td>\n",
       "      <td>...</td>\n",
       "      <td>-16.0</td>\n",
       "      <td>-11.0</td>\n",
       "      <td>10.0</td>\n",
       "      <td>-21.0</td>\n",
       "      <td>5.0</td>\n",
       "      <td>13.0</td>\n",
       "      <td>-3.0</td>\n",
       "      <td>-7.0</td>\n",
       "      <td>25.0</td>\n",
       "      <td>7.0</td>\n",
       "    </tr>\n",
       "    <tr>\n",
       "      <th>1579</th>\n",
       "      <td>-20.0</td>\n",
       "      <td>-9.0</td>\n",
       "      <td>-3.0</td>\n",
       "      <td>-14.0</td>\n",
       "      <td>-7.0</td>\n",
       "      <td>-2.0</td>\n",
       "      <td>-56.0</td>\n",
       "      <td>-3.0</td>\n",
       "      <td>-8.0</td>\n",
       "      <td>17.0</td>\n",
       "      <td>...</td>\n",
       "      <td>-50.0</td>\n",
       "      <td>-8.0</td>\n",
       "      <td>-4.0</td>\n",
       "      <td>-4.0</td>\n",
       "      <td>0.0</td>\n",
       "      <td>17.0</td>\n",
       "      <td>-22.0</td>\n",
       "      <td>-38.0</td>\n",
       "      <td>-94.0</td>\n",
       "      <td>-17.0</td>\n",
       "    </tr>\n",
       "    <tr>\n",
       "      <th>883</th>\n",
       "      <td>16.0</td>\n",
       "      <td>10.0</td>\n",
       "      <td>-3.0</td>\n",
       "      <td>-14.0</td>\n",
       "      <td>-13.0</td>\n",
       "      <td>-3.0</td>\n",
       "      <td>56.0</td>\n",
       "      <td>-2.0</td>\n",
       "      <td>12.0</td>\n",
       "      <td>0.0</td>\n",
       "      <td>...</td>\n",
       "      <td>97.0</td>\n",
       "      <td>2.0</td>\n",
       "      <td>10.0</td>\n",
       "      <td>3.0</td>\n",
       "      <td>-3.0</td>\n",
       "      <td>-8.0</td>\n",
       "      <td>-21.0</td>\n",
       "      <td>24.0</td>\n",
       "      <td>10.0</td>\n",
       "      <td>9.0</td>\n",
       "    </tr>\n",
       "  </tbody>\n",
       "</table>\n",
       "<p>5 rows × 64 columns</p>\n",
       "</div>"
      ],
      "text/plain": [
       "      col1  col2  col3  col4  col5  col6  col7  col8  col9  col10  ...    \\\n",
       "4684 -17.0  -4.0   1.0   1.0  -8.0 -35.0  -1.0   1.0  -1.0    0.0  ...     \n",
       "960    5.0  -4.0   6.0  12.0   4.0   0.0 -57.0 -11.0  -7.0    9.0  ...     \n",
       "2009  14.0   0.0  -5.0  -8.0 -12.0 -27.0 -65.0 -18.0  11.0  -12.0  ...     \n",
       "1579 -20.0  -9.0  -3.0 -14.0  -7.0  -2.0 -56.0  -3.0  -8.0   17.0  ...     \n",
       "883   16.0  10.0  -3.0 -14.0 -13.0  -3.0  56.0  -2.0  12.0    0.0  ...     \n",
       "\n",
       "      col55  col56  col57  col58  col59  col60  col61  col62  col63  col64  \n",
       "4684    2.0    1.0    3.0    1.0    2.0    2.0  -11.0  -28.0   -1.0   -1.0  \n",
       "960    99.0   60.0    1.0    5.0   14.0    7.0   14.0   15.0  -53.0   41.0  \n",
       "2009  -16.0  -11.0   10.0  -21.0    5.0   13.0   -3.0   -7.0   25.0    7.0  \n",
       "1579  -50.0   -8.0   -4.0   -4.0    0.0   17.0  -22.0  -38.0  -94.0  -17.0  \n",
       "883    97.0    2.0   10.0    3.0   -3.0   -8.0  -21.0   24.0   10.0    9.0  \n",
       "\n",
       "[5 rows x 64 columns]"
      ]
     },
     "execution_count": 17,
     "metadata": {},
     "output_type": "execute_result"
    }
   ],
   "source": [
    "X_train.head()"
   ]
  },
  {
   "cell_type": "code",
   "execution_count": 18,
   "metadata": {},
   "outputs": [],
   "source": [
    "minMaxScaler=MinMaxScaler()"
   ]
  },
  {
   "cell_type": "code",
   "execution_count": 19,
   "metadata": {},
   "outputs": [
    {
     "data": {
      "text/plain": [
       "MinMaxScaler(copy=True, feature_range=(0, 1))"
      ]
     },
     "execution_count": 19,
     "metadata": {},
     "output_type": "execute_result"
    }
   ],
   "source": [
    "minMaxScaler.fit(X_train)"
   ]
  },
  {
   "cell_type": "code",
   "execution_count": 20,
   "metadata": {},
   "outputs": [
    {
     "data": {
      "text/html": [
       "<div>\n",
       "<style scoped>\n",
       "    .dataframe tbody tr th:only-of-type {\n",
       "        vertical-align: middle;\n",
       "    }\n",
       "\n",
       "    .dataframe tbody tr th {\n",
       "        vertical-align: top;\n",
       "    }\n",
       "\n",
       "    .dataframe thead th {\n",
       "        text-align: right;\n",
       "    }\n",
       "</style>\n",
       "<table border=\"1\" class=\"dataframe\">\n",
       "  <thead>\n",
       "    <tr style=\"text-align: right;\">\n",
       "      <th></th>\n",
       "      <th>col1</th>\n",
       "      <th>col2</th>\n",
       "      <th>col3</th>\n",
       "      <th>col4</th>\n",
       "      <th>col5</th>\n",
       "      <th>col6</th>\n",
       "      <th>col7</th>\n",
       "      <th>col8</th>\n",
       "      <th>col9</th>\n",
       "      <th>col10</th>\n",
       "      <th>...</th>\n",
       "      <th>col55</th>\n",
       "      <th>col56</th>\n",
       "      <th>col57</th>\n",
       "      <th>col58</th>\n",
       "      <th>col59</th>\n",
       "      <th>col60</th>\n",
       "      <th>col61</th>\n",
       "      <th>col62</th>\n",
       "      <th>col63</th>\n",
       "      <th>col64</th>\n",
       "    </tr>\n",
       "  </thead>\n",
       "  <tbody>\n",
       "    <tr>\n",
       "      <th>0</th>\n",
       "      <td>0.436123</td>\n",
       "      <td>0.515464</td>\n",
       "      <td>0.507463</td>\n",
       "      <td>0.598425</td>\n",
       "      <td>0.530516</td>\n",
       "      <td>0.349398</td>\n",
       "      <td>0.498039</td>\n",
       "      <td>0.507874</td>\n",
       "      <td>0.459916</td>\n",
       "      <td>0.547009</td>\n",
       "      <td>...</td>\n",
       "      <td>0.509804</td>\n",
       "      <td>0.533058</td>\n",
       "      <td>0.489712</td>\n",
       "      <td>0.545852</td>\n",
       "      <td>0.640000</td>\n",
       "      <td>0.591667</td>\n",
       "      <td>0.421053</td>\n",
       "      <td>0.392157</td>\n",
       "      <td>0.498039</td>\n",
       "      <td>0.490040</td>\n",
       "    </tr>\n",
       "    <tr>\n",
       "      <th>1</th>\n",
       "      <td>0.533040</td>\n",
       "      <td>0.515464</td>\n",
       "      <td>0.582090</td>\n",
       "      <td>0.685039</td>\n",
       "      <td>0.586854</td>\n",
       "      <td>0.489960</td>\n",
       "      <td>0.278431</td>\n",
       "      <td>0.460630</td>\n",
       "      <td>0.434599</td>\n",
       "      <td>0.585470</td>\n",
       "      <td>...</td>\n",
       "      <td>0.890196</td>\n",
       "      <td>0.776860</td>\n",
       "      <td>0.481481</td>\n",
       "      <td>0.563319</td>\n",
       "      <td>0.800000</td>\n",
       "      <td>0.633333</td>\n",
       "      <td>0.540670</td>\n",
       "      <td>0.560784</td>\n",
       "      <td>0.294118</td>\n",
       "      <td>0.657371</td>\n",
       "    </tr>\n",
       "    <tr>\n",
       "      <th>2</th>\n",
       "      <td>0.572687</td>\n",
       "      <td>0.536082</td>\n",
       "      <td>0.417910</td>\n",
       "      <td>0.527559</td>\n",
       "      <td>0.511737</td>\n",
       "      <td>0.381526</td>\n",
       "      <td>0.247059</td>\n",
       "      <td>0.433071</td>\n",
       "      <td>0.510549</td>\n",
       "      <td>0.495726</td>\n",
       "      <td>...</td>\n",
       "      <td>0.439216</td>\n",
       "      <td>0.483471</td>\n",
       "      <td>0.518519</td>\n",
       "      <td>0.449782</td>\n",
       "      <td>0.680000</td>\n",
       "      <td>0.683333</td>\n",
       "      <td>0.459330</td>\n",
       "      <td>0.474510</td>\n",
       "      <td>0.600000</td>\n",
       "      <td>0.521912</td>\n",
       "    </tr>\n",
       "    <tr>\n",
       "      <th>3</th>\n",
       "      <td>0.422907</td>\n",
       "      <td>0.489691</td>\n",
       "      <td>0.447761</td>\n",
       "      <td>0.480315</td>\n",
       "      <td>0.535211</td>\n",
       "      <td>0.481928</td>\n",
       "      <td>0.282353</td>\n",
       "      <td>0.492126</td>\n",
       "      <td>0.430380</td>\n",
       "      <td>0.619658</td>\n",
       "      <td>...</td>\n",
       "      <td>0.305882</td>\n",
       "      <td>0.495868</td>\n",
       "      <td>0.460905</td>\n",
       "      <td>0.524017</td>\n",
       "      <td>0.613333</td>\n",
       "      <td>0.716667</td>\n",
       "      <td>0.368421</td>\n",
       "      <td>0.352941</td>\n",
       "      <td>0.133333</td>\n",
       "      <td>0.426295</td>\n",
       "    </tr>\n",
       "    <tr>\n",
       "      <th>4</th>\n",
       "      <td>0.581498</td>\n",
       "      <td>0.587629</td>\n",
       "      <td>0.447761</td>\n",
       "      <td>0.480315</td>\n",
       "      <td>0.507042</td>\n",
       "      <td>0.477912</td>\n",
       "      <td>0.721569</td>\n",
       "      <td>0.496063</td>\n",
       "      <td>0.514768</td>\n",
       "      <td>0.547009</td>\n",
       "      <td>...</td>\n",
       "      <td>0.882353</td>\n",
       "      <td>0.537190</td>\n",
       "      <td>0.518519</td>\n",
       "      <td>0.554585</td>\n",
       "      <td>0.573333</td>\n",
       "      <td>0.508333</td>\n",
       "      <td>0.373206</td>\n",
       "      <td>0.596078</td>\n",
       "      <td>0.541176</td>\n",
       "      <td>0.529880</td>\n",
       "    </tr>\n",
       "  </tbody>\n",
       "</table>\n",
       "<p>5 rows × 64 columns</p>\n",
       "</div>"
      ],
      "text/plain": [
       "       col1      col2      col3      col4      col5      col6      col7  \\\n",
       "0  0.436123  0.515464  0.507463  0.598425  0.530516  0.349398  0.498039   \n",
       "1  0.533040  0.515464  0.582090  0.685039  0.586854  0.489960  0.278431   \n",
       "2  0.572687  0.536082  0.417910  0.527559  0.511737  0.381526  0.247059   \n",
       "3  0.422907  0.489691  0.447761  0.480315  0.535211  0.481928  0.282353   \n",
       "4  0.581498  0.587629  0.447761  0.480315  0.507042  0.477912  0.721569   \n",
       "\n",
       "       col8      col9     col10    ...        col55     col56     col57  \\\n",
       "0  0.507874  0.459916  0.547009    ...     0.509804  0.533058  0.489712   \n",
       "1  0.460630  0.434599  0.585470    ...     0.890196  0.776860  0.481481   \n",
       "2  0.433071  0.510549  0.495726    ...     0.439216  0.483471  0.518519   \n",
       "3  0.492126  0.430380  0.619658    ...     0.305882  0.495868  0.460905   \n",
       "4  0.496063  0.514768  0.547009    ...     0.882353  0.537190  0.518519   \n",
       "\n",
       "      col58     col59     col60     col61     col62     col63     col64  \n",
       "0  0.545852  0.640000  0.591667  0.421053  0.392157  0.498039  0.490040  \n",
       "1  0.563319  0.800000  0.633333  0.540670  0.560784  0.294118  0.657371  \n",
       "2  0.449782  0.680000  0.683333  0.459330  0.474510  0.600000  0.521912  \n",
       "3  0.524017  0.613333  0.716667  0.368421  0.352941  0.133333  0.426295  \n",
       "4  0.554585  0.573333  0.508333  0.373206  0.596078  0.541176  0.529880  \n",
       "\n",
       "[5 rows x 64 columns]"
      ]
     },
     "execution_count": 20,
     "metadata": {},
     "output_type": "execute_result"
    }
   ],
   "source": [
    "X_train=minMaxScaler.transform(X_train)\n",
    "X_train=pd.DataFrame(X_train,columns=X.columns)\n",
    "X_train.head()"
   ]
  },
  {
   "cell_type": "code",
   "execution_count": 21,
   "metadata": {},
   "outputs": [],
   "source": [
    "X_test=minMaxScaler.transform(X_test)\n",
    "X_test=pd.DataFrame(X_test,columns=X.columns)"
   ]
  },
  {
   "cell_type": "code",
   "execution_count": 22,
   "metadata": {},
   "outputs": [
    {
     "data": {
      "text/plain": [
       "(10510, 64)"
      ]
     },
     "execution_count": 22,
     "metadata": {},
     "output_type": "execute_result"
    }
   ],
   "source": [
    "X_train.shape"
   ]
  },
  {
   "cell_type": "code",
   "execution_count": 23,
   "metadata": {},
   "outputs": [
    {
     "data": {
      "text/html": [
       "<div>\n",
       "<style scoped>\n",
       "    .dataframe tbody tr th:only-of-type {\n",
       "        vertical-align: middle;\n",
       "    }\n",
       "\n",
       "    .dataframe tbody tr th {\n",
       "        vertical-align: top;\n",
       "    }\n",
       "\n",
       "    .dataframe thead th {\n",
       "        text-align: right;\n",
       "    }\n",
       "</style>\n",
       "<table border=\"1\" class=\"dataframe\">\n",
       "  <thead>\n",
       "    <tr style=\"text-align: right;\">\n",
       "      <th></th>\n",
       "      <th>class1</th>\n",
       "      <th>class2</th>\n",
       "      <th>class3</th>\n",
       "      <th>class4</th>\n",
       "    </tr>\n",
       "  </thead>\n",
       "  <tbody>\n",
       "    <tr>\n",
       "      <th>4684</th>\n",
       "      <td>0.0</td>\n",
       "      <td>1.0</td>\n",
       "      <td>0.0</td>\n",
       "      <td>0.0</td>\n",
       "    </tr>\n",
       "    <tr>\n",
       "      <th>960</th>\n",
       "      <td>1.0</td>\n",
       "      <td>0.0</td>\n",
       "      <td>0.0</td>\n",
       "      <td>0.0</td>\n",
       "    </tr>\n",
       "    <tr>\n",
       "      <th>2009</th>\n",
       "      <td>1.0</td>\n",
       "      <td>0.0</td>\n",
       "      <td>0.0</td>\n",
       "      <td>0.0</td>\n",
       "    </tr>\n",
       "    <tr>\n",
       "      <th>1579</th>\n",
       "      <td>1.0</td>\n",
       "      <td>0.0</td>\n",
       "      <td>0.0</td>\n",
       "      <td>0.0</td>\n",
       "    </tr>\n",
       "    <tr>\n",
       "      <th>883</th>\n",
       "      <td>1.0</td>\n",
       "      <td>0.0</td>\n",
       "      <td>0.0</td>\n",
       "      <td>0.0</td>\n",
       "    </tr>\n",
       "  </tbody>\n",
       "</table>\n",
       "</div>"
      ],
      "text/plain": [
       "      class1  class2  class3  class4\n",
       "4684     0.0     1.0     0.0     0.0\n",
       "960      1.0     0.0     0.0     0.0\n",
       "2009     1.0     0.0     0.0     0.0\n",
       "1579     1.0     0.0     0.0     0.0\n",
       "883      1.0     0.0     0.0     0.0"
      ]
     },
     "execution_count": 23,
     "metadata": {},
     "output_type": "execute_result"
    }
   ],
   "source": [
    "y_train.head()"
   ]
  },
  {
   "cell_type": "code",
   "execution_count": 24,
   "metadata": {},
   "outputs": [
    {
     "data": {
      "text/plain": [
       "(2, 64)"
      ]
     },
     "execution_count": 24,
     "metadata": {},
     "output_type": "execute_result"
    }
   ],
   "source": [
    "X_train[9340:9342].shape"
   ]
  },
  {
   "cell_type": "code",
   "execution_count": 25,
   "metadata": {},
   "outputs": [
    {
     "data": {
      "text/plain": [
       "(1, 64)"
      ]
     },
     "execution_count": 25,
     "metadata": {},
     "output_type": "execute_result"
    }
   ],
   "source": [
    "X_train[9341:9342].shape"
   ]
  },
  {
   "cell_type": "code",
   "execution_count": 26,
   "metadata": {},
   "outputs": [
    {
     "data": {
      "text/plain": [
       "(2, 64)"
      ]
     },
     "execution_count": 26,
     "metadata": {},
     "output_type": "execute_result"
    }
   ],
   "source": [
    "X_train[800:802].shape"
   ]
  },
  {
   "cell_type": "code",
   "execution_count": 27,
   "metadata": {},
   "outputs": [
    {
     "data": {
      "text/plain": [
       "10510"
      ]
     },
     "execution_count": 27,
     "metadata": {},
     "output_type": "execute_result"
    }
   ],
   "source": [
    "len(X_train)"
   ]
  },
  {
   "cell_type": "markdown",
   "metadata": {},
   "source": [
    "** Creating Batch for data **"
   ]
  },
  {
   "cell_type": "code",
   "execution_count": 28,
   "metadata": {},
   "outputs": [],
   "source": [
    "class batch_data:\n",
    "    \n",
    "    Previous_size=0\n",
    "    \n",
    "    def __init__(self,X_input,y_input):\n",
    "        self.X=X_input\n",
    "        self.y=y_input\n",
    "    \n",
    "    def next_batch(self,size):\n",
    "        #Previous_size=Previous_size+self.size\n",
    "        start_loc=self.Previous_size\n",
    "        end_loc=self.Previous_size+size\n",
    "        self.Previous_size=end_loc\n",
    "        if len(self.X)<end_loc:\n",
    "            self.Previous_size=0\n",
    "            return self.X[len(self.X)-size:len(self.X)],self.y[len(self.X)-size:len(self.X)]\n",
    "        if len(self.X)==end_loc:\n",
    "            self.Previous_size=0\n",
    "        return self.X[start_loc:end_loc],self.y[start_loc:end_loc]\n",
    "    "
   ]
  },
  {
   "cell_type": "code",
   "execution_count": 29,
   "metadata": {},
   "outputs": [],
   "source": [
    "train_batch_data=batch_data(X_train,y_train) \n",
    "test_batch_data=batch_data(X_test,y_test)"
   ]
  },
  {
   "cell_type": "markdown",
   "metadata": {},
   "source": [
    "# Neural networks"
   ]
  },
  {
   "cell_type": "markdown",
   "metadata": {},
   "source": [
    "**Place holders for input Tensor and output Tensor**"
   ]
  },
  {
   "cell_type": "code",
   "execution_count": 30,
   "metadata": {},
   "outputs": [],
   "source": [
    "X_true=tf.placeholder(tf.float32,shape=[None,64])\n",
    "y_true=tf.placeholder(tf.float32,shape=[None,4])\n",
    "prob=tf.placeholder(tf.float32)"
   ]
  },
  {
   "cell_type": "code",
   "execution_count": 31,
   "metadata": {},
   "outputs": [],
   "source": [
    "learning_rate=0.001\n",
    "batch_size=32\n",
    "epochs=50#epochs=200"
   ]
  },
  {
   "cell_type": "markdown",
   "metadata": {},
   "source": [
    "**weights and biases**"
   ]
  },
  {
   "cell_type": "code",
   "execution_count": 32,
   "metadata": {},
   "outputs": [
    {
     "name": "stdout",
     "output_type": "stream",
     "text": [
      "[[-0.05173111  0.0090914   0.08533317 -0.06078815  0.11647417  0.01546381\n",
      "   0.1117388  -0.1368507   0.06653465 -0.04755419  0.07398263  0.11128477\n",
      "  -0.1026935   0.1677701   0.11938442 -0.17259648 -0.1840329   0.06855132\n",
      "   0.16933592  0.07255178  0.04372548 -0.10953438  0.07898789  0.15310435\n",
      "  -0.11784723 -0.00982967  0.02964279  0.01558474  0.02465745  0.10209497\n",
      "   0.02330208 -0.02088145 -0.02260539 -0.00320342  0.10045087  0.08712537\n",
      "   0.05297509  0.07065614 -0.06798787 -0.12661862 -0.08159305 -0.05737958\n",
      "  -0.09072513  0.084468    0.08515688  0.18195948 -0.09539748  0.07789936\n",
      "   0.14938097  0.12901135  0.0600634  -0.0408019  -0.17732988  0.02749399\n",
      "   0.02509772  0.1549437   0.03136475 -0.01897482 -0.11129688 -0.10108763\n",
      "   0.14282437  0.09868488 -0.03695272 -0.07951462]]\n",
      "[0.1 0.1 0.1 0.1 0.1 0.1 0.1 0.1 0.1 0.1 0.1 0.1 0.1 0.1 0.1 0.1 0.1 0.1\n",
      " 0.1 0.1 0.1 0.1 0.1 0.1 0.1 0.1 0.1 0.1 0.1 0.1 0.1 0.1 0.1 0.1 0.1 0.1\n",
      " 0.1 0.1 0.1 0.1 0.1 0.1 0.1 0.1 0.1 0.1 0.1 0.1 0.1 0.1 0.1 0.1 0.1 0.1\n",
      " 0.1 0.1 0.1 0.1 0.1 0.1 0.1 0.1 0.1 0.1]\n"
     ]
    }
   ],
   "source": [
    "init_random_dist = tf.truncated_normal(shape=[1,64], stddev=0.1)\n",
    "a=tf.Variable(init_random_dist)\n",
    "init_bias_vals = tf.constant(0.1, shape=[64])\n",
    "b=tf.Variable(init_bias_vals)\n",
    "init=tf.global_variables_initializer()\n",
    "with tf.Session() as sess:\n",
    "    sess.run(init)\n",
    "    print(sess.run(a))\n",
    "    print(sess.run(b))\n",
    "    "
   ]
  },
  {
   "cell_type": "code",
   "execution_count": 33,
   "metadata": {},
   "outputs": [],
   "source": [
    "def create_weights(shape):\n",
    "    random_wt=tf.truncated_normal(shape=shape,stddev=0.1)\n",
    "    return tf.Variable(random_wt)"
   ]
  },
  {
   "cell_type": "code",
   "execution_count": 34,
   "metadata": {},
   "outputs": [],
   "source": [
    "def create_bias(shape):\n",
    "    bias_val=tf.constant(0.1,shape=shape)\n",
    "    return tf.Variable(bias_val)"
   ]
  },
  {
   "cell_type": "code",
   "execution_count": 35,
   "metadata": {},
   "outputs": [],
   "source": [
    "w1=create_weights([64,32])\n",
    "b1=create_bias([32])"
   ]
  },
  {
   "cell_type": "code",
   "execution_count": 36,
   "metadata": {},
   "outputs": [],
   "source": [
    "w2=create_weights([32,16])\n",
    "b2=create_bias([16])"
   ]
  },
  {
   "cell_type": "code",
   "execution_count": 37,
   "metadata": {},
   "outputs": [],
   "source": [
    "wo=create_weights([16,4])\n",
    "bo=create_bias([4])"
   ]
  },
  {
   "cell_type": "markdown",
   "metadata": {},
   "source": [
    "**Creating Graph for Neural Network**"
   ]
  },
  {
   "cell_type": "code",
   "execution_count": 38,
   "metadata": {},
   "outputs": [],
   "source": [
    "hidden_layer1=tf.add(tf.matmul(X_true,w1),b1)"
   ]
  },
  {
   "cell_type": "code",
   "execution_count": 39,
   "metadata": {},
   "outputs": [],
   "source": [
    "hidden_layer2=tf.matmul(hidden_layer1,w2)+b2"
   ]
  },
  {
   "cell_type": "code",
   "execution_count": 40,
   "metadata": {},
   "outputs": [],
   "source": [
    "y_out=tf.add(tf.matmul(hidden_layer2,wo),bo)"
   ]
  },
  {
   "cell_type": "code",
   "execution_count": 41,
   "metadata": {},
   "outputs": [],
   "source": [
    "entropy=tf.nn.softmax_cross_entropy_with_logits_v2(labels=y_true,logits=y_out)\n",
    "#entropy=tf.nn.sigmoid_cross_entropy_with_logits(labels=y_true,logits=y_out)"
   ]
  },
  {
   "cell_type": "code",
   "execution_count": 42,
   "metadata": {},
   "outputs": [],
   "source": [
    "loss=tf.reduce_mean(entropy)"
   ]
  },
  {
   "cell_type": "markdown",
   "metadata": {},
   "source": [
    "**Optimizer**"
   ]
  },
  {
   "cell_type": "code",
   "execution_count": 43,
   "metadata": {},
   "outputs": [],
   "source": [
    "optimizer=tf.train.AdamOptimizer(learning_rate=learning_rate)"
   ]
  },
  {
   "cell_type": "code",
   "execution_count": 44,
   "metadata": {},
   "outputs": [],
   "source": [
    "train=optimizer.minimize(loss)\n",
    "saver=tf.train.Saver(max_to_keep=epochs)"
   ]
  },
  {
   "cell_type": "code",
   "execution_count": 45,
   "metadata": {},
   "outputs": [],
   "source": [
    "def training (sess,train,y_out,X_train,y_train,batch_size=32,X_test=None,y_test=None,epochs=1,keep_prob=0.8):\n",
    "    \n",
    "    #Creating object batch data\n",
    "    train_batch_data=batch_data(X_train,y_train)\n",
    "    test_batch_data=batch_data(X_test,y_test)\n",
    "    \n",
    "    #Cal for steps for each epcoh\n",
    "    steps_for_epoch=math.ceil(len(X_train)/batch_size)\n",
    "    \n",
    "    test_scores=[]\n",
    "    train_scores=[]\n",
    "    loss_value=[]\n",
    "    \n",
    "    for i in range(0,epochs):\n",
    "        j=0\n",
    "        while(True):\n",
    "            \n",
    "            #Getting X_train,y_train data\n",
    "            X_feed,y_feed=train_batch_data.next_batch(batch_size)\n",
    "            \n",
    "            #Training model\n",
    "            _,loss_tr=sess.run([train,loss],feed_dict={X_true:X_feed,y_true:y_feed,prob:keep_prob})\n",
    "            \n",
    "            j=j+1\n",
    "            \n",
    "            #Checking epochs is completed or not\n",
    "            if j>=steps_for_epoch:\n",
    "                \n",
    "                print(i+1, 'epochs is completed')\n",
    "                print('Loss:',loss_tr)\n",
    "                loss_value.append(loss_tr)\n",
    "                \n",
    "                #Training Predictions\n",
    "                train_op=sess.run(tf.argmax(y_out,1),feed_dict={X_true:X_train,prob:1.0})\n",
    "                \n",
    "                #Training Accuracy\n",
    "                train_acc_score=accuracy_score(np.argmax(np.array(y_train),axis=1),train_op)\n",
    "                print('Accuracy score:',accuracy_score(np.argmax(np.array(y_train),axis=1),train_op))\n",
    "                \n",
    "                #if X_test!=None:\n",
    "                \n",
    "                #Testing Predicions\n",
    "                test_op=sess.run(tf.arg_max(y_out,1),feed_dict={X_true:X_test,prob:1.0})\n",
    "                \n",
    "                #Testing accuracy\n",
    "                test_acc_score=accuracy_score(np.argmax(np.array(y_test),axis=1),test_op)\n",
    "                print('Test Accuracy Score: ',accuracy_score(np.argmax(np.array(y_test),axis=1),test_op))\n",
    "                \n",
    "                train_scores.append(train_acc_score)\n",
    "                test_scores.append(test_acc_score)\n",
    "                \n",
    "                #Saving checkpoints for each epoch\n",
    "                checpoint='E:/Machine_learning/savingModel/tensorflowcheckpioints/classfication_'+str(int(i+1))+'epcohs.ckpt'\n",
    "                saver.save(sess,checpoint)\n",
    "                #print(i)\n",
    "                break\n",
    "    \n",
    "    return train_scores,test_scores,loss_value\n",
    "                #return train_acc_score,None\n",
    "        "
   ]
  },
  {
   "cell_type": "markdown",
   "metadata": {},
   "source": [
    "**Training model**"
   ]
  },
  {
   "cell_type": "code",
   "execution_count": 46,
   "metadata": {
    "scrolled": true
   },
   "outputs": [
    {
     "name": "stdout",
     "output_type": "stream",
     "text": [
      "1 epochs is completed\n",
      "Loss: 1.3869438\n",
      "Accuracy score: 0.252616555661275\n",
      "WARNING:tensorflow:From <ipython-input-45-ff334172e004>:43: arg_max (from tensorflow.python.ops.gen_math_ops) is deprecated and will be removed in a future version.\n",
      "Instructions for updating:\n",
      "Use `argmax` instead\n",
      "Test Accuracy Score:  0.2465753424657534\n",
      "2 epochs is completed\n",
      "Loss: 1.3868895\n",
      "Accuracy score: 0.25299714557564223\n",
      "Test Accuracy Score:  0.2534246575342466\n",
      "3 epochs is completed\n",
      "Loss: 1.3866434\n",
      "Accuracy score: 0.25946717411988585\n",
      "Test Accuracy Score:  0.24914383561643835\n",
      "4 epochs is completed\n",
      "Loss: 1.3859535\n",
      "Accuracy score: 0.2637488106565176\n",
      "Test Accuracy Score:  0.2542808219178082\n",
      "5 epochs is completed\n",
      "Loss: 1.385514\n",
      "Accuracy score: 0.25451950523311134\n",
      "Test Accuracy Score:  0.2559931506849315\n",
      "6 epochs is completed\n",
      "Loss: 1.3840436\n",
      "Accuracy score: 0.26660323501427213\n",
      "Test Accuracy Score:  0.2628424657534247\n",
      "7 epochs is completed\n",
      "Loss: 1.3826811\n",
      "Accuracy score: 0.26574690770694576\n",
      "Test Accuracy Score:  0.2568493150684932\n",
      "8 epochs is completed\n",
      "Loss: 1.3788749\n",
      "Accuracy score: 0.28924833491912466\n",
      "Test Accuracy Score:  0.2773972602739726\n",
      "9 epochs is completed\n",
      "Loss: 1.3736418\n",
      "Accuracy score: 0.30751665080875357\n",
      "Test Accuracy Score:  0.285958904109589\n",
      "10 epochs is completed\n",
      "Loss: 1.3662708\n",
      "Accuracy score: 0.30627973358705995\n",
      "Test Accuracy Score:  0.2936643835616438\n",
      "11 epochs is completed\n",
      "Loss: 1.3592238\n",
      "Accuracy score: 0.288011417697431\n",
      "Test Accuracy Score:  0.2773972602739726\n",
      "12 epochs is completed\n",
      "Loss: 1.3546233\n",
      "Accuracy score: 0.27859181731684113\n",
      "Test Accuracy Score:  0.2705479452054795\n",
      "13 epochs is completed\n",
      "Loss: 1.352042\n",
      "Accuracy score: 0.2780209324452902\n",
      "Test Accuracy Score:  0.2722602739726027\n",
      "14 epochs is completed\n",
      "Loss: 1.351078\n",
      "Accuracy score: 0.2824928639391056\n",
      "Test Accuracy Score:  0.276541095890411\n",
      "15 epochs is completed\n",
      "Loss: 1.3511713\n",
      "Accuracy score: 0.2866793529971456\n",
      "Test Accuracy Score:  0.285958904109589\n",
      "16 epochs is completed\n",
      "Loss: 1.351926\n",
      "Accuracy score: 0.29143672692673644\n",
      "Test Accuracy Score:  0.2936643835616438\n",
      "17 epochs is completed\n",
      "Loss: 1.3530504\n",
      "Accuracy score: 0.29429115128449096\n",
      "Test Accuracy Score:  0.2979452054794521\n",
      "18 epochs is completed\n",
      "Loss: 1.3543386\n",
      "Accuracy score: 0.2956232159847764\n",
      "Test Accuracy Score:  0.2988013698630137\n",
      "19 epochs is completed\n",
      "Loss: 1.3556643\n",
      "Accuracy score: 0.2953377735490009\n",
      "Test Accuracy Score:  0.300513698630137\n",
      "20 epochs is completed\n",
      "Loss: 1.3569627\n",
      "Accuracy score: 0.2957183634633682\n",
      "Test Accuracy Score:  0.300513698630137\n",
      "21 epochs is completed\n",
      "Loss: 1.3582056\n",
      "Accuracy score: 0.2973358705994291\n",
      "Test Accuracy Score:  0.3022260273972603\n",
      "22 epochs is completed\n",
      "Loss: 1.3593806\n",
      "Accuracy score: 0.2974310180780209\n",
      "Test Accuracy Score:  0.3013698630136986\n",
      "23 epochs is completed\n",
      "Loss: 1.3604838\n",
      "Accuracy score: 0.29762131303520456\n",
      "Test Accuracy Score:  0.2988013698630137\n",
      "24 epochs is completed\n",
      "Loss: 1.3615149\n",
      "Accuracy score: 0.2977164605137964\n",
      "Test Accuracy Score:  0.2979452054794521\n",
      "25 epochs is completed\n",
      "Loss: 1.362473\n",
      "Accuracy score: 0.2977164605137964\n",
      "Test Accuracy Score:  0.2996575342465753\n",
      "26 epochs is completed\n",
      "Loss: 1.3633552\n",
      "Accuracy score: 0.2978116079923882\n",
      "Test Accuracy Score:  0.300513698630137\n",
      "27 epochs is completed\n",
      "Loss: 1.3641632\n",
      "Accuracy score: 0.2981921979067555\n",
      "Test Accuracy Score:  0.3013698630136986\n",
      "28 epochs is completed\n",
      "Loss: 1.3649086\n",
      "Accuracy score: 0.2990485252140818\n",
      "Test Accuracy Score:  0.3022260273972603\n",
      "29 epochs is completed\n",
      "Loss: 1.3655959\n",
      "Accuracy score: 0.2987630827783064\n",
      "Test Accuracy Score:  0.300513698630137\n",
      "30 epochs is completed\n",
      "Loss: 1.366223\n",
      "Accuracy score: 0.29885823025689817\n",
      "Test Accuracy Score:  0.3022260273972603\n",
      "31 epochs is completed\n",
      "Loss: 1.3667891\n",
      "Accuracy score: 0.29895337773549\n",
      "Test Accuracy Score:  0.3013698630136986\n",
      "32 epochs is completed\n",
      "Loss: 1.3673296\n",
      "Accuracy score: 0.29847764034253094\n",
      "Test Accuracy Score:  0.2996575342465753\n",
      "33 epochs is completed\n",
      "Loss: 1.3678303\n",
      "Accuracy score: 0.29885823025689817\n",
      "Test Accuracy Score:  0.3013698630136986\n",
      "34 epochs is completed\n",
      "Loss: 1.3682907\n",
      "Accuracy score: 0.29895337773549\n",
      "Test Accuracy Score:  0.3030821917808219\n",
      "35 epochs is completed\n",
      "Loss: 1.3687065\n",
      "Accuracy score: 0.29847764034253094\n",
      "Test Accuracy Score:  0.3039383561643836\n",
      "36 epochs is completed\n",
      "Loss: 1.369083\n",
      "Accuracy score: 0.29923882017126546\n",
      "Test Accuracy Score:  0.3022260273972603\n",
      "37 epochs is completed\n",
      "Loss: 1.3694412\n",
      "Accuracy score: 0.2994291151284491\n",
      "Test Accuracy Score:  0.3039383561643836\n",
      "38 epochs is completed\n",
      "Loss: 1.369745\n",
      "Accuracy score: 0.30019029495718363\n",
      "Test Accuracy Score:  0.3039383561643836\n",
      "39 epochs is completed\n",
      "Loss: 1.3699647\n",
      "Accuracy score: 0.2999048525214082\n",
      "Test Accuracy Score:  0.3047945205479452\n",
      "40 epochs is completed\n",
      "Loss: 1.3702741\n",
      "Accuracy score: 0.3015223596574691\n",
      "Test Accuracy Score:  0.3056506849315068\n",
      "41 epochs is completed\n",
      "Loss: 1.3705605\n",
      "Accuracy score: 0.3011417697431018\n",
      "Test Accuracy Score:  0.3065068493150685\n",
      "42 epochs is completed\n",
      "Loss: 1.3707734\n",
      "Accuracy score: 0.3019980970504282\n",
      "Test Accuracy Score:  0.3039383561643836\n",
      "43 epochs is completed\n",
      "Loss: 1.37098\n",
      "Accuracy score: 0.3022835394862036\n",
      "Test Accuracy Score:  0.3047945205479452\n",
      "44 epochs is completed\n",
      "Loss: 1.3710749\n",
      "Accuracy score: 0.3021883920076118\n",
      "Test Accuracy Score:  0.3047945205479452\n",
      "45 epochs is completed\n",
      "Loss: 1.3712785\n",
      "Accuracy score: 0.3032350142721218\n",
      "Test Accuracy Score:  0.3047945205479452\n",
      "46 epochs is completed\n",
      "Loss: 1.37146\n",
      "Accuracy score: 0.3032350142721218\n",
      "Test Accuracy Score:  0.3030821917808219\n",
      "47 epochs is completed\n",
      "Loss: 1.3715863\n",
      "Accuracy score: 0.3036156041864891\n",
      "Test Accuracy Score:  0.300513698630137\n",
      "48 epochs is completed\n",
      "Loss: 1.3717511\n",
      "Accuracy score: 0.30342530922930544\n",
      "Test Accuracy Score:  0.3013698630136986\n",
      "49 epochs is completed\n",
      "Loss: 1.3718657\n",
      "Accuracy score: 0.3036156041864891\n",
      "Test Accuracy Score:  0.3022260273972603\n",
      "50 epochs is completed\n",
      "Loss: 1.3719707\n",
      "Accuracy score: 0.3039010466222645\n",
      "Test Accuracy Score:  0.3013698630136986\n"
     ]
    }
   ],
   "source": [
    "init=tf.global_variables_initializer()\n",
    "with tf.Session() as sess:\n",
    "    sess.run(init)\n",
    "    acc_train,acc_test,loss_value=training(sess,train,y_out,X_train=X_train,y_train=y_train,X_test=X_test,y_test=y_test\\\n",
    "                             ,epochs=epochs,batch_size=batch_size)\n",
    "    #print(sess.run(wo))"
   ]
  },
  {
   "cell_type": "code",
   "execution_count": 47,
   "metadata": {},
   "outputs": [
    {
     "data": {
      "text/plain": [
       "<matplotlib.legend.Legend at 0x21318e91780>"
      ]
     },
     "execution_count": 47,
     "metadata": {},
     "output_type": "execute_result"
    },
    {
     "data": {
      "image/png": "[encoded data removed]",
      "text/plain": [
       "<matplotlib.figure.Figure at 0x21317379630>"
      ]
     },
     "metadata": {},
     "output_type": "display_data"
    }
   ],
   "source": [
    "plt.plot(acc_test,label='Test Scores')\n",
    "plt.plot(acc_train,label='Train Scores')\n",
    "plt.legend(loc=\"best\")"
   ]
  },
  {
   "cell_type": "markdown",
   "metadata": {},
   "source": [
    "** MOdel Performace is not at all good**"
   ]
  },
  {
   "cell_type": "markdown",
   "metadata": {},
   "source": [
    "**Predictions on trained model**"
   ]
  },
  {
   "cell_type": "code",
   "execution_count": 51,
   "metadata": {},
   "outputs": [
    {
     "name": "stdout",
     "output_type": "stream",
     "text": [
      "INFO:tensorflow:Restoring parameters from E:/Machine_learning/savingModel/tensorflowcheckpioints/classfication_42epcohs.ckpt\n",
      "[0 0 2 ... 2 2 0]\n"
     ]
    }
   ],
   "source": [
    "#Predictions\n",
    "#init=tf.global_variables_initializer()\n",
    "with tf.Session() as sess:\n",
    "    sess.run(init)\n",
    "    #print(sess.run(wo))\n",
    "    saver.restore(sess, \"E:/Machine_learning/savingModel/tensorflowcheckpioints/classfication_42epcohs.ckpt\")\n",
    "    test_batch_data=batch_data(X_test,y_test)\n",
    "    print(sess.run(tf.arg_max(y_out,dimension=1),feed_dict={X_true:X_test}))\n",
    "    #print(sess.run(wo))"
   ]
  },
  {
   "cell_type": "markdown",
   "metadata": {},
   "source": [
    "** Model Performace is not at all good**"
   ]
  },
  {
   "cell_type": "markdown",
   "metadata": {},
   "source": [
    "***1. while performing Neural networks or any machine learning algorithm with multi dimensions, we have to discard some features***\n",
    "\n",
    "***2. Use dimensional reduction method to reduce dimensions***\n",
    "\n",
    "***3. I tried this model with many ways differnt approaches only CNN given best peformances, follow the below code for this model with CNN ***\n"
   ]
  },
  {
   "cell_type": "markdown",
   "metadata": {},
   "source": [
    "# Trying this model with CNN, CNN find patterns"
   ]
  },
  {
   "cell_type": "markdown",
   "metadata": {},
   "source": [
    "** for understading purpose writing same functions one more time **"
   ]
  },
  {
   "cell_type": "code",
   "execution_count": 52,
   "metadata": {},
   "outputs": [],
   "source": [
    "X_train=np.array(X_train)\n",
    "X_test=np.array(X_test)\n",
    "train_batch_data=batch_data(X_train.reshape(-1,8,8,1),np.array(y_train)) \n",
    "test_batch_data=batch_data(X_test.reshape(-1,8,8,1),np.array(y_test))"
   ]
  },
  {
   "cell_type": "code",
   "execution_count": 53,
   "metadata": {},
   "outputs": [
    {
     "data": {
      "text/plain": [
       "(5, 8, 8, 1)"
      ]
     },
     "execution_count": 53,
     "metadata": {},
     "output_type": "execute_result"
    }
   ],
   "source": [
    "x,y=train_batch_data.next_batch(5)\n",
    "x.shape"
   ]
  },
  {
   "cell_type": "markdown",
   "metadata": {},
   "source": [
    "**Place holders for input Tensor and output Tensor**"
   ]
  },
  {
   "cell_type": "code",
   "execution_count": 54,
   "metadata": {},
   "outputs": [],
   "source": [
    "X_true=tf.placeholder(tf.float32,shape=[None,8,8,1])\n",
    "y_true=tf.placeholder(tf.float32,shape=[None,4])\n",
    "prob=tf.placeholder(tf.float32)"
   ]
  },
  {
   "cell_type": "code",
   "execution_count": 55,
   "metadata": {},
   "outputs": [],
   "source": [
    "def create_weights(shape):\n",
    "    random_wt=tf.truncated_normal(shape=shape,stddev=0.1)\n",
    "    return tf.Variable(random_wt)\n",
    "\n",
    "def create_bias(shape):\n",
    "    bias_val=tf.constant(0.1,shape=shape)\n",
    "    return tf.Variable(bias_val)"
   ]
  },
  {
   "cell_type": "markdown",
   "metadata": {},
   "source": [
    "** Creating convolutional layer with conv2d and relu **"
   ]
  },
  {
   "cell_type": "code",
   "execution_count": 56,
   "metadata": {},
   "outputs": [],
   "source": [
    "def convolutional_layer(X,filters):\n",
    "\n",
    "    \n",
    "    return tf.nn.conv2d(X,filters,strides=[1,1,1,1],padding='SAME')"
   ]
  },
  {
   "cell_type": "code",
   "execution_count": 57,
   "metadata": {},
   "outputs": [],
   "source": [
    "def layer(X,units):\n",
    "    \n",
    "    X_size=int(X.get_shape()[1])\n",
    "    w=create_weights([X_size,units])\n",
    "    b=create_bias([units])\n",
    "    \n",
    "    return tf.matmul(X,w)+b"
   ]
  },
  {
   "cell_type": "markdown",
   "metadata": {},
   "source": [
    "**Neural Network**"
   ]
  },
  {
   "cell_type": "code",
   "execution_count": 58,
   "metadata": {},
   "outputs": [],
   "source": [
    "#Convolutional layer\n",
    "shape=[4,4,1,32]\n",
    "filters=create_weights(shape)\n",
    "b=create_bias([shape[3]])\n",
    "convo_layer=tf.nn.relu(convolutional_layer(X_true,filters)+b)\n",
    "\n",
    "#Max pool\n",
    "max_pool=tf.nn.max_pool(convo_layer,ksize=[1,2,2,1],strides=[1,2,2,1],padding='SAME')\n",
    "\n",
    "#flatten layer\n",
    "flatten_layer=tf.reshape(max_pool,[-1,4*4*32])\n",
    "\n",
    "#Hidden layer 1\n",
    "w1=create_weights([4*4*32,256])\n",
    "b1=create_bias([256])\n",
    "hidden_layer=tf.nn.relu(tf.matmul(flatten_layer,w1)+b1)\n",
    "\n",
    "#dropout\n",
    "layer_after_dropout=tf.nn.dropout(hidden_layer,keep_prob=prob)\n",
    "\n",
    "#output layer\n",
    "wo=create_weights([256,4])\n",
    "bo=create_bias([4])\n",
    "y_pred=tf.matmul(layer_after_dropout,wo)+bo\n",
    "\n",
    "#loss function\n",
    "loss=tf.reduce_mean(tf.nn.softmax_cross_entropy_with_logits_v2(labels=y_true,logits=y_pred))\n",
    "\n",
    "#Optimizer\n",
    "optimizer=tf.train.AdamOptimizer(learning_rate=learning_rate)\n",
    "train=optimizer.minimize(loss)\n",
    "\n",
    "#Saver\n",
    "saver=tf.train.Saver(max_to_keep=epochs)"
   ]
  },
  {
   "cell_type": "markdown",
   "metadata": {},
   "source": [
    "** understanding purpose**"
   ]
  },
  {
   "cell_type": "code",
   "execution_count": 59,
   "metadata": {},
   "outputs": [
    {
     "name": "stdout",
     "output_type": "stream",
     "text": [
      "shape after convolutional layer: (5, 8, 8, 32)\n",
      "shape after MAX_POOL layer: (5, 4, 4, 32)\n",
      "shape after after flatten layer: (5, 512)\n",
      "shape after after final layer: (5, 4)\n"
     ]
    }
   ],
   "source": [
    "init=tf.global_variables_initializer()\n",
    "with tf.Session() as sess:\n",
    "    sess.run(init)\n",
    "    #print(sess.run(W).reshape(-1,4,4,3,32).shape)\n",
    "    print('shape after convolutional layer:',sess.run(convo_layer,feed_dict={X_true:x}).shape)\n",
    "    print('shape after MAX_POOL layer:',sess.run(max_pool,feed_dict={X_true:x}).shape)\n",
    "    print('shape after after flatten layer:',sess.run(flatten_layer,feed_dict={X_true:x}).shape)\n",
    "    print('shape after after final layer:',sess.run(y_pred,feed_dict={X_true:x,prob:0.8}).shape)"
   ]
  },
  {
   "cell_type": "markdown",
   "metadata": {},
   "source": [
    "**Training**"
   ]
  },
  {
   "cell_type": "code",
   "execution_count": 60,
   "metadata": {
    "scrolled": true
   },
   "outputs": [
    {
     "name": "stdout",
     "output_type": "stream",
     "text": [
      "1 epochs is completed\n",
      "Loss: 0.84286\n",
      "Accuracy score: 0.6901998097050428\n",
      "Test Accuracy Score:  0.6840753424657534\n",
      "2 epochs is completed\n",
      "Loss: 0.4268929\n",
      "Accuracy score: 0.8323501427212179\n",
      "Test Accuracy Score:  0.8296232876712328\n",
      "3 epochs is completed\n",
      "Loss: 0.31421703\n",
      "Accuracy score: 0.8790675547098001\n",
      "Test Accuracy Score:  0.8818493150684932\n",
      "4 epochs is completed\n",
      "Loss: 0.24738522\n",
      "Accuracy score: 0.8886774500475737\n",
      "Test Accuracy Score:  0.9023972602739726\n",
      "5 epochs is completed\n",
      "Loss: 0.2194429\n",
      "Accuracy score: 0.897431018078021\n",
      "Test Accuracy Score:  0.8972602739726028\n",
      "6 epochs is completed\n",
      "Loss: 0.14403403\n",
      "Accuracy score: 0.9068506184586108\n",
      "Test Accuracy Score:  0.9066780821917808\n",
      "7 epochs is completed\n",
      "Loss: 0.111452326\n",
      "Accuracy score: 0.9180780209324453\n",
      "Test Accuracy Score:  0.913527397260274\n",
      "8 epochs is completed\n",
      "Loss: 0.122929394\n",
      "Accuracy score: 0.9252140818268316\n",
      "Test Accuracy Score:  0.9186643835616438\n",
      "9 epochs is completed\n",
      "Loss: 0.111077935\n",
      "Accuracy score: 0.9316841103710751\n",
      "Test Accuracy Score:  0.9238013698630136\n",
      "10 epochs is completed\n",
      "Loss: 0.09974768\n",
      "Accuracy score: 0.9267364414843007\n",
      "Test Accuracy Score:  0.9220890410958904\n",
      "11 epochs is completed\n",
      "Loss: 0.11301611\n",
      "Accuracy score: 0.9303520456707898\n",
      "Test Accuracy Score:  0.9246575342465754\n",
      "12 epochs is completed\n",
      "Loss: 0.10344208\n",
      "Accuracy score: 0.9300666032350142\n",
      "Test Accuracy Score:  0.922945205479452\n",
      "13 epochs is completed\n",
      "Loss: 0.06525975\n",
      "Accuracy score: 0.9358705994291151\n",
      "Test Accuracy Score:  0.925513698630137\n",
      "14 epochs is completed\n",
      "Loss: 0.07538584\n",
      "Accuracy score: 0.9446241674595623\n",
      "Test Accuracy Score:  0.9383561643835616\n",
      "15 epochs is completed\n",
      "Loss: 0.06193617\n",
      "Accuracy score: 0.9362511893434824\n",
      "Test Accuracy Score:  0.9272260273972602\n",
      "16 epochs is completed\n",
      "Loss: 0.079752\n",
      "Accuracy score: 0.9270218839200761\n",
      "Test Accuracy Score:  0.922945205479452\n",
      "17 epochs is completed\n",
      "Loss: 0.06184684\n",
      "Accuracy score: 0.9428163653663177\n",
      "Test Accuracy Score:  0.9366438356164384\n",
      "18 epochs is completed\n",
      "Loss: 0.063453555\n",
      "Accuracy score: 0.9392959086584205\n",
      "Test Accuracy Score:  0.9366438356164384\n",
      "19 epochs is completed\n",
      "Loss: 0.04307554\n",
      "Accuracy score: 0.9507136060894387\n",
      "Test Accuracy Score:  0.9460616438356164\n",
      "20 epochs is completed\n",
      "Loss: 0.050332174\n",
      "Accuracy score: 0.9516650808753568\n",
      "Test Accuracy Score:  0.9460616438356164\n",
      "21 epochs is completed\n",
      "Loss: 0.04353466\n",
      "Accuracy score: 0.9503330161750714\n",
      "Test Accuracy Score:  0.9434931506849316\n",
      "22 epochs is completed\n",
      "Loss: 0.0339908\n",
      "Accuracy score: 0.9590865842055185\n",
      "Test Accuracy Score:  0.949486301369863\n",
      "23 epochs is completed\n",
      "Loss: 0.044842046\n",
      "Accuracy score: 0.9650808753568031\n",
      "Test Accuracy Score:  0.9580479452054794\n",
      "24 epochs is completed\n",
      "Loss: 0.042528003\n",
      "Accuracy score: 0.962987630827783\n",
      "Test Accuracy Score:  0.9554794520547946\n",
      "25 epochs is completed\n",
      "Loss: 0.025435094\n",
      "Accuracy score: 0.9598477640342531\n",
      "Test Accuracy Score:  0.946917808219178\n",
      "26 epochs is completed\n",
      "Loss: 0.03214301\n",
      "Accuracy score: 0.9594671741198858\n",
      "Test Accuracy Score:  0.9486301369863014\n",
      "27 epochs is completed\n",
      "Loss: 0.039139234\n",
      "Accuracy score: 0.9591817316841104\n",
      "Test Accuracy Score:  0.949486301369863\n",
      "28 epochs is completed\n",
      "Loss: 0.052743718\n",
      "Accuracy score: 0.964605137963844\n",
      "Test Accuracy Score:  0.9546232876712328\n",
      "29 epochs is completed\n",
      "Loss: 0.020259347\n",
      "Accuracy score: 0.9564224548049477\n",
      "Test Accuracy Score:  0.9409246575342466\n",
      "30 epochs is completed\n",
      "Loss: 0.024580635\n",
      "Accuracy score: 0.9597526165556612\n",
      "Test Accuracy Score:  0.9486301369863014\n",
      "31 epochs is completed\n",
      "Loss: 0.030920397\n",
      "Accuracy score: 0.9605137963843958\n",
      "Test Accuracy Score:  0.9503424657534246\n",
      "32 epochs is completed\n",
      "Loss: 0.019103166\n",
      "Accuracy score: 0.9717411988582303\n",
      "Test Accuracy Score:  0.9563356164383562\n",
      "33 epochs is completed\n",
      "Loss: 0.030047923\n",
      "Accuracy score: 0.9653663177925785\n",
      "Test Accuracy Score:  0.949486301369863\n",
      "34 epochs is completed\n",
      "Loss: 0.019092435\n",
      "Accuracy score: 0.9560418648905804\n",
      "Test Accuracy Score:  0.9452054794520548\n",
      "35 epochs is completed\n",
      "Loss: 0.03202918\n",
      "Accuracy score: 0.957278782112274\n",
      "Test Accuracy Score:  0.9426369863013698\n",
      "36 epochs is completed\n",
      "Loss: 0.027244033\n",
      "Accuracy score: 0.9584205518553758\n",
      "Test Accuracy Score:  0.9460616438356164\n",
      "37 epochs is completed\n",
      "Loss: 0.03642843\n",
      "Accuracy score: 0.9733587059942912\n",
      "Test Accuracy Score:  0.9546232876712328\n",
      "38 epochs is completed\n",
      "Loss: 0.021341637\n",
      "Accuracy score: 0.9667935299714557\n",
      "Test Accuracy Score:  0.952054794520548\n",
      "39 epochs is completed\n",
      "Loss: 0.0143932365\n",
      "Accuracy score: 0.9696479543292102\n",
      "Test Accuracy Score:  0.9546232876712328\n",
      "40 epochs is completed\n",
      "Loss: 0.020652283\n",
      "Accuracy score: 0.9714557564224549\n",
      "Test Accuracy Score:  0.9554794520547946\n",
      "41 epochs is completed\n",
      "Loss: 0.035135724\n",
      "Accuracy score: 0.9729781160799239\n",
      "Test Accuracy Score:  0.958904109589041\n",
      "42 epochs is completed\n",
      "Loss: 0.013602512\n",
      "Accuracy score: 0.9733587059942912\n",
      "Test Accuracy Score:  0.9563356164383562\n",
      "43 epochs is completed\n",
      "Loss: 0.03801372\n",
      "Accuracy score: 0.9693625118934348\n",
      "Test Accuracy Score:  0.9511986301369864\n",
      "44 epochs is completed\n",
      "Loss: 0.013537908\n",
      "Accuracy score: 0.975547098001903\n",
      "Test Accuracy Score:  0.9546232876712328\n",
      "45 epochs is completed\n",
      "Loss: 0.039191835\n",
      "Accuracy score: 0.975547098001903\n",
      "Test Accuracy Score:  0.9554794520547946\n",
      "46 epochs is completed\n",
      "Loss: 0.045608137\n",
      "Accuracy score: 0.9705042816365367\n",
      "Test Accuracy Score:  0.9537671232876712\n",
      "47 epochs is completed\n",
      "Loss: 0.01950181\n",
      "Accuracy score: 0.9690770694576594\n",
      "Test Accuracy Score:  0.9511986301369864\n",
      "48 epochs is completed\n",
      "Loss: 0.019772993\n",
      "Accuracy score: 0.9710751665080876\n",
      "Test Accuracy Score:  0.9546232876712328\n",
      "49 epochs is completed\n",
      "Loss: 0.009269045\n",
      "Accuracy score: 0.9773549000951475\n",
      "Test Accuracy Score:  0.9563356164383562\n",
      "50 epochs is completed\n",
      "Loss: 0.020358674\n",
      "Accuracy score: 0.9759276879162703\n",
      "Test Accuracy Score:  0.9546232876712328\n",
      "[[-0.14749624 -0.00696805  0.02155667 -0.00362192]\n",
      " [-0.00296959  0.01222469 -0.00565277  0.11998483]\n",
      " [ 0.17247145  0.10252584 -0.20509289 -0.22750393]\n",
      " ...\n",
      " [ 0.06852376  0.03489973  0.02616631  0.05023948]\n",
      " [-1.2874787   0.05686693  0.0347506  -0.08569504]\n",
      " [ 0.09105093 -0.10899265  0.00536773 -0.08132438]]\n"
     ]
    }
   ],
   "source": [
    "init=tf.global_variables_initializer()\n",
    "with tf.Session() as sess:\n",
    "    sess.run(init)\n",
    "    acc_train,acc_test,loss_value=training(sess,train,y_out=y_pred,X_train=X_train.reshape(-1,8,8,1),y_train=np.array(y_train),\\\n",
    "                                           batch_size=batch_size,X_test=X_test.reshape(-1,8,8,1),y_test=np.array(y_test),\\\n",
    "                                           epochs=epochs,keep_prob=0.8)\n",
    "    print(sess.run(wo))"
   ]
  },
  {
   "cell_type": "code",
   "execution_count": 61,
   "metadata": {},
   "outputs": [
    {
     "data": {
      "text/plain": [
       "<matplotlib.legend.Legend at 0x2131aaa5a20>"
      ]
     },
     "execution_count": 61,
     "metadata": {},
     "output_type": "execute_result"
    },
    {
     "data": {
      "image/png": "[encoded data removed]",
      "text/plain": [
       "<matplotlib.figure.Figure at 0x21318f1b588>"
      ]
     },
     "metadata": {},
     "output_type": "display_data"
    }
   ],
   "source": [
    "plt.plot(acc_test,label='Test Scores')\n",
    "plt.plot(acc_train,label='Train Scores')\n",
    "plt.legend(loc=\"best\")"
   ]
  },
  {
   "cell_type": "code",
   "execution_count": 63,
   "metadata": {},
   "outputs": [
    {
     "data": {
      "text/plain": [
       "<matplotlib.legend.Legend at 0x2131aa8dda0>"
      ]
     },
     "execution_count": 63,
     "metadata": {},
     "output_type": "execute_result"
    },
    {
     "data": {
      "image/png": "[encoded data removed]",
      "text/plain": [
       "<matplotlib.figure.Figure at 0x2131aab9b38>"
      ]
     },
     "metadata": {},
     "output_type": "display_data"
    }
   ],
   "source": [
    "plt.plot(acc_test,label='Test Scores')\n",
    "plt.plot(acc_train,label='Train Scores')\n",
    "plt.xlim(10,30)\n",
    "plt.legend(loc=\"best\")"
   ]
  },
  {
   "cell_type": "markdown",
   "metadata": {},
   "source": [
    "**Chossing best model and accuracy**"
   ]
  },
  {
   "cell_type": "code",
   "execution_count": 72,
   "metadata": {},
   "outputs": [
    {
     "name": "stdout",
     "output_type": "stream",
     "text": [
      "INFO:tensorflow:Restoring parameters from E:/Machine_learning/savingModel/tensorflowcheckpioints/classfication_21epcohs.ckpt\n",
      "[3 3 0 ... 0 3 1]\n",
      "Test Accuracy Score:  0.9434931506849316\n"
     ]
    }
   ],
   "source": [
    "with tf.Session() as sess:\n",
    "    sess.run(init)\n",
    "    saver.restore(sess, \"E:/Machine_learning/savingModel/tensorflowcheckpioints/classfication_21epcohs.ckpt\")\n",
    "    #test_batch_data=batch_data(X_test.reshape(-1,8,8,1),np.array(y_test))\n",
    "    #print(X_test)\n",
    "    print(sess.run(tf.arg_max(y_pred,dimension=1),feed_dict={X_true:X_test.reshape(-1,8,8,1),prob:1.0}))\n",
    "    a=sess.run(tf.arg_max(y_pred,dimension=1),feed_dict={X_true:X_test.reshape(-1,8,8,1),prob:1.0})\n",
    "    #print(sess.run(wo))\n",
    "    test_op=sess.run(tf.arg_max(y_pred,1),feed_dict={X_true:X_test.reshape(-1,8,8,1),prob:1.0})\n",
    "                \n",
    "    #Testing accuracy\n",
    "    test_acc_score=accuracy_score(np.argmax(np.array(y_test),axis=1),test_op)\n",
    "    print('Test Accuracy Score: ',accuracy_score(np.argmax(np.array(y_test),axis=1),test_op))"
   ]
  },
  {
   "cell_type": "markdown",
   "metadata": {},
   "source": [
    "**With CNN  we got better performaces**"
   ]
  },
  {
   "cell_type": "code",
   "execution_count": null,
   "metadata": {},
   "outputs": [],
   "source": []
  }
 ],
 "metadata": {
  "kernelspec": {
   "display_name": "Python 3",
   "language": "python",
   "name": "python3"
  },
  "language_info": {
   "codemirror_mode": {
    "name": "ipython",
    "version": 3
   },
   "file_extension": ".py",
   "mimetype": "text/x-python",
   "name": "python",
   "nbconvert_exporter": "python",
   "pygments_lexer": "ipython3",
   "version": "3.6.4"
  }
 },
 "nbformat": 4,
 "nbformat_minor": 2
}
